{
 "cells": [
  {
   "cell_type": "code",
   "execution_count": null,
   "id": "a3dfba7d-568a-42ba-a8e5-b34070988bc9",
   "metadata": {},
   "outputs": [],
   "source": [
    "# data structure:\n",
    "  # 1.List"
   ]
  },
  {
   "cell_type": "code",
   "execution_count": 30,
   "id": "5c853fad-6a3b-4a58-b715-19577124e642",
   "metadata": {},
   "outputs": [],
   "source": [
    "l=[12,23,34,12,45,77]"
   ]
  },
  {
   "cell_type": "code",
   "execution_count": 31,
   "id": "331e8e12-d126-473d-8914-7bf6ea8c32bf",
   "metadata": {},
   "outputs": [
    {
     "name": "stdout",
     "output_type": "stream",
     "text": [
      "[12, 23, 34, 12, 45, 77]\n"
     ]
    }
   ],
   "source": [
    "print(l)   # duplicates are allowed"
   ]
  },
  {
   "cell_type": "code",
   "execution_count": 32,
   "id": "0766bfad-e5ac-4721-b6d8-fe4ee73567cf",
   "metadata": {},
   "outputs": [
    {
     "data": {
      "text/plain": [
       "list"
      ]
     },
     "execution_count": 32,
     "metadata": {},
     "output_type": "execute_result"
    }
   ],
   "source": [
    "type(l)"
   ]
  },
  {
   "cell_type": "code",
   "execution_count": 33,
   "id": "bf63987d-802f-4d81-b5ed-df623998c00f",
   "metadata": {},
   "outputs": [
    {
     "data": {
      "text/plain": [
       "34"
      ]
     },
     "execution_count": 33,
     "metadata": {},
     "output_type": "execute_result"
    }
   ],
   "source": [
    "# acess the data\n",
    "l[2]  # orderd"
   ]
  },
  {
   "cell_type": "code",
   "execution_count": 34,
   "id": "18f0344a-2a13-49e0-b9e1-5ead8e1cf8d5",
   "metadata": {},
   "outputs": [
    {
     "data": {
      "text/plain": [
       "45"
      ]
     },
     "execution_count": 34,
     "metadata": {},
     "output_type": "execute_result"
    }
   ],
   "source": [
    "l[-2]"
   ]
  },
  {
   "cell_type": "code",
   "execution_count": 35,
   "id": "a7f31b95-8be6-41e7-9310-c4f17b1ea457",
   "metadata": {},
   "outputs": [],
   "source": [
    "l1=[12,23,45,67,'Amruta', True]"
   ]
  },
  {
   "cell_type": "code",
   "execution_count": 36,
   "id": "9446e99b-78f7-4ed7-8e17-adc9e08a7492",
   "metadata": {},
   "outputs": [
    {
     "name": "stdout",
     "output_type": "stream",
     "text": [
      "[12, 23, 45, 67, 'Amruta', True]\n"
     ]
    }
   ],
   "source": [
    "print(l1)"
   ]
  },
  {
   "cell_type": "code",
   "execution_count": 37,
   "id": "4111c13f-3d57-4a81-95c6-762354759b3f",
   "metadata": {},
   "outputs": [
    {
     "data": {
      "text/plain": [
       "[12, 23, 34, 12, 45, 77]"
      ]
     },
     "execution_count": 37,
     "metadata": {},
     "output_type": "execute_result"
    }
   ],
   "source": [
    "# replace the value\n",
    "l"
   ]
  },
  {
   "cell_type": "code",
   "execution_count": 38,
   "id": "73cb9073-9f83-4704-ba30-8982d45f76f9",
   "metadata": {},
   "outputs": [],
   "source": [
    "l[2]=67  # replace the value"
   ]
  },
  {
   "cell_type": "code",
   "execution_count": 39,
   "id": "08763d98-e591-4f3c-b075-b04bc04f6220",
   "metadata": {},
   "outputs": [
    {
     "data": {
      "text/plain": [
       "[12, 23, 67, 12, 45, 77]"
      ]
     },
     "execution_count": 39,
     "metadata": {},
     "output_type": "execute_result"
    }
   ],
   "source": [
    "l"
   ]
  },
  {
   "cell_type": "code",
   "execution_count": 40,
   "id": "641bd7bb-425c-464f-ad66-79fcffbe6204",
   "metadata": {},
   "outputs": [
    {
     "data": {
      "text/plain": [
       "[23, 67, 12]"
      ]
     },
     "execution_count": 40,
     "metadata": {},
     "output_type": "execute_result"
    }
   ],
   "source": [
    "# slicing\n",
    "l[1:4]"
   ]
  },
  {
   "cell_type": "code",
   "execution_count": 41,
   "id": "e758ac03-1dd0-4adf-a320-90344c8dfbfd",
   "metadata": {},
   "outputs": [
    {
     "data": {
      "text/plain": [
       "[12, 23, 67, 12]"
      ]
     },
     "execution_count": 41,
     "metadata": {},
     "output_type": "execute_result"
    }
   ],
   "source": [
    "l[0:4]"
   ]
  },
  {
   "cell_type": "code",
   "execution_count": 42,
   "id": "d5818f4f-165a-4d47-86e2-53cdcad4c7f2",
   "metadata": {},
   "outputs": [
    {
     "data": {
      "text/plain": [
       "[12, 23, 67, 12]"
      ]
     },
     "execution_count": 42,
     "metadata": {},
     "output_type": "execute_result"
    }
   ],
   "source": [
    "l[:4]"
   ]
  },
  {
   "cell_type": "code",
   "execution_count": 43,
   "id": "0b5ff9d7-de8b-4bf7-a181-472b5ea3fa48",
   "metadata": {},
   "outputs": [
    {
     "data": {
      "text/plain": [
       "[12, 23, 67, 12, 45, 77]"
      ]
     },
     "execution_count": 43,
     "metadata": {},
     "output_type": "execute_result"
    }
   ],
   "source": [
    "l[:]"
   ]
  },
  {
   "cell_type": "code",
   "execution_count": 45,
   "id": "f3f1b34d-c1e0-4a2a-972a-af24369a72c7",
   "metadata": {},
   "outputs": [
    {
     "data": {
      "text/plain": [
       "[12, 67, 45]"
      ]
     },
     "execution_count": 45,
     "metadata": {},
     "output_type": "execute_result"
    }
   ],
   "source": [
    "l[0:-1:2]"
   ]
  },
  {
   "cell_type": "code",
   "execution_count": 46,
   "id": "cc6efccd-17a6-4e20-9033-9eeebf8bf371",
   "metadata": {},
   "outputs": [
    {
     "data": {
      "text/plain": [
       "[12, 23, 67, 12, 45, 77]"
      ]
     },
     "execution_count": 46,
     "metadata": {},
     "output_type": "execute_result"
    }
   ],
   "source": [
    "l"
   ]
  },
  {
   "cell_type": "code",
   "execution_count": 50,
   "id": "41c0a160-c9cf-4810-9437-93cd45975a96",
   "metadata": {},
   "outputs": [],
   "source": [
    "l[1:4]=[55,66,99]"
   ]
  },
  {
   "cell_type": "code",
   "execution_count": 51,
   "id": "25d1a3c4-fbb9-4e45-ae2a-359c74279c23",
   "metadata": {},
   "outputs": [
    {
     "name": "stdout",
     "output_type": "stream",
     "text": [
      "[12, 55, 66, 99, 45, 77]\n"
     ]
    }
   ],
   "source": [
    "print(l)"
   ]
  },
  {
   "cell_type": "code",
   "execution_count": 56,
   "id": "8087aff5-3fe1-4a7a-a1a6-7a76b7daf4af",
   "metadata": {},
   "outputs": [],
   "source": [
    "l[1::2]=[33,44,90]"
   ]
  },
  {
   "cell_type": "code",
   "execution_count": 57,
   "id": "9a73da1d-10f9-49d2-a397-1f4d2cab7310",
   "metadata": {},
   "outputs": [
    {
     "name": "stdout",
     "output_type": "stream",
     "text": [
      "[33, 33, 44, 44, 90, 90]\n"
     ]
    }
   ],
   "source": [
    "print(l)"
   ]
  },
  {
   "cell_type": "code",
   "execution_count": 58,
   "id": "3edccf6e-87ad-47eb-8ed2-687d257cc3c3",
   "metadata": {},
   "outputs": [],
   "source": [
    "l[1::2]=[3,4,20]"
   ]
  },
  {
   "cell_type": "code",
   "execution_count": 59,
   "id": "d2d5ec07-c52a-42d4-82b3-4b2fba45ee96",
   "metadata": {},
   "outputs": [
    {
     "name": "stdout",
     "output_type": "stream",
     "text": [
      "[33, 3, 44, 4, 90, 20]\n"
     ]
    }
   ],
   "source": [
    "print(l)"
   ]
  },
  {
   "cell_type": "code",
   "execution_count": 60,
   "id": "8e7d2902-dd47-4498-ad93-2defcfd16fa6",
   "metadata": {},
   "outputs": [],
   "source": [
    "l1 =[78,89,98]"
   ]
  },
  {
   "cell_type": "code",
   "execution_count": 61,
   "id": "f2271013-ef52-423d-842c-2c25010e225e",
   "metadata": {},
   "outputs": [],
   "source": [
    "# deleting the data\n",
    "\n",
    "del l1"
   ]
  },
  {
   "cell_type": "code",
   "execution_count": 62,
   "id": "3d43e2ee-c9cd-42f7-8528-3fe61446a41e",
   "metadata": {},
   "outputs": [
    {
     "ename": "NameError",
     "evalue": "name 'l1' is not defined",
     "output_type": "error",
     "traceback": [
      "\u001b[1;31m---------------------------------------------------------------------------\u001b[0m",
      "\u001b[1;31mNameError\u001b[0m                                 Traceback (most recent call last)",
      "Cell \u001b[1;32mIn[62], line 1\u001b[0m\n\u001b[1;32m----> 1\u001b[0m l1\n",
      "\u001b[1;31mNameError\u001b[0m: name 'l1' is not defined"
     ]
    }
   ],
   "source": [
    "l1"
   ]
  },
  {
   "cell_type": "code",
   "execution_count": 63,
   "id": "2c8b4888-6e85-425b-885a-dea36b874a8b",
   "metadata": {},
   "outputs": [
    {
     "data": {
      "text/plain": [
       "[33, 3, 44, 4, 90, 20]"
      ]
     },
     "execution_count": 63,
     "metadata": {},
     "output_type": "execute_result"
    }
   ],
   "source": [
    "l"
   ]
  },
  {
   "cell_type": "code",
   "execution_count": 64,
   "id": "8ab40671-2232-4c49-8c52-c0f09da9ce7b",
   "metadata": {},
   "outputs": [
    {
     "data": {
      "text/plain": [
       "False"
      ]
     },
     "execution_count": 64,
     "metadata": {},
     "output_type": "execute_result"
    }
   ],
   "source": [
    "# in operator\n",
    "\n",
    "12 in l"
   ]
  },
  {
   "cell_type": "code",
   "execution_count": 65,
   "id": "6c686f93-4992-486f-8e70-fcdfd64ac5e8",
   "metadata": {},
   "outputs": [
    {
     "data": {
      "text/plain": [
       "True"
      ]
     },
     "execution_count": 65,
     "metadata": {},
     "output_type": "execute_result"
    }
   ],
   "source": [
    "90 in l"
   ]
  },
  {
   "cell_type": "code",
   "execution_count": 66,
   "id": "9e6abea8-725c-436b-8f6a-db38cc81eb55",
   "metadata": {},
   "outputs": [
    {
     "data": {
      "text/plain": [
       "False"
      ]
     },
     "execution_count": 66,
     "metadata": {},
     "output_type": "execute_result"
    }
   ],
   "source": [
    "3 not in l"
   ]
  },
  {
   "cell_type": "code",
   "execution_count": 67,
   "id": "30c5f836-b266-4a00-8809-6330cdb97847",
   "metadata": {},
   "outputs": [
    {
     "data": {
      "text/plain": [
       "[33, 3, 44, 4, 90, 20]"
      ]
     },
     "execution_count": 67,
     "metadata": {},
     "output_type": "execute_result"
    }
   ],
   "source": [
    "# arithmatic opeartions\n",
    "l"
   ]
  },
  {
   "cell_type": "code",
   "execution_count": 68,
   "id": "066de5bd-259a-4edc-aaa9-6023c85a7d6a",
   "metadata": {},
   "outputs": [
    {
     "data": {
      "text/plain": [
       "[33, 3, 44, 4, 90, 20, 33, 3, 44, 4, 90, 20]"
      ]
     },
     "execution_count": 68,
     "metadata": {},
     "output_type": "execute_result"
    }
   ],
   "source": [
    "l*2  # reapte the list"
   ]
  },
  {
   "cell_type": "code",
   "execution_count": 69,
   "id": "0f89b755-1433-4e24-96fe-28097ac71bb2",
   "metadata": {},
   "outputs": [
    {
     "data": {
      "text/plain": [
       "[33, 3, 44, 4, 90, 20, 100, 567]"
      ]
     },
     "execution_count": 69,
     "metadata": {},
     "output_type": "execute_result"
    }
   ],
   "source": [
    "l + [100,567]"
   ]
  },
  {
   "cell_type": "code",
   "execution_count": 70,
   "id": "297bc72f-cbe2-4cb6-acd4-e81bde60371a",
   "metadata": {},
   "outputs": [],
   "source": [
    "l1 = [1,2,3,4,5,]"
   ]
  },
  {
   "cell_type": "code",
   "execution_count": 72,
   "id": "4758ab4a-6e34-4233-ae9b-ac6849cbde10",
   "metadata": {},
   "outputs": [
    {
     "data": {
      "text/plain": [
       "[33, 3, 44, 4, 90, 20, 1, 2, 3, 4, 5]"
      ]
     },
     "execution_count": 72,
     "metadata": {},
     "output_type": "execute_result"
    }
   ],
   "source": [
    "l+l1"
   ]
  },
  {
   "cell_type": "code",
   "execution_count": 74,
   "id": "facc3487-278e-4840-94b1-75d92bae5b63",
   "metadata": {},
   "outputs": [
    {
     "data": {
      "text/plain": [
       "[33, 3, 44, 4, 90, 20]"
      ]
     },
     "execution_count": 74,
     "metadata": {},
     "output_type": "execute_result"
    }
   ],
   "source": [
    "l"
   ]
  },
  {
   "cell_type": "code",
   "execution_count": 73,
   "id": "018b1b15-c6eb-483a-8376-98c1b7639462",
   "metadata": {},
   "outputs": [
    {
     "name": "stdout",
     "output_type": "stream",
     "text": [
      "33\n",
      "3\n",
      "44\n",
      "4\n",
      "90\n",
      "20\n"
     ]
    }
   ],
   "source": [
    "# iterating over a list\n",
    "\n",
    "for n in l:\n",
    "    print(n)"
   ]
  },
  {
   "cell_type": "code",
   "execution_count": 79,
   "id": "9b211c0b-408a-4ec8-b2d1-9c6c5f47e424",
   "metadata": {},
   "outputs": [
    {
     "name": "stdout",
     "output_type": "stream",
     "text": [
      "1089 9 1936 16 8100 400 "
     ]
    }
   ],
   "source": [
    "for n in l:\n",
    "    print(n**2,end=' ')"
   ]
  },
  {
   "cell_type": "code",
   "execution_count": 88,
   "id": "84db71d6-4a72-4998-96a9-7d208c915423",
   "metadata": {},
   "outputs": [
    {
     "name": "stdout",
     "output_type": "stream",
     "text": [
      "33\n",
      "3\n"
     ]
    }
   ],
   "source": [
    "for n in l:                    # odd numbers print\n",
    "    if n % 2==1:\n",
    "        print(n)"
   ]
  },
  {
   "cell_type": "code",
   "execution_count": null,
   "id": "0bd7280c-2290-4baf-a6c9-50036a4ca8ee",
   "metadata": {},
   "outputs": [],
   "source": []
  },
  {
   "cell_type": "code",
   "execution_count": null,
   "id": "b056fc9f-7f21-4394-a23c-b013e4e875aa",
   "metadata": {},
   "outputs": [],
   "source": [
    "# list comprehension"
   ]
  },
  {
   "cell_type": "code",
   "execution_count": 89,
   "id": "2edf6483-9cf6-492f-9879-00bd31a85a2f",
   "metadata": {},
   "outputs": [],
   "source": [
    "# maapping \n",
    "# map\n",
    "\n",
    "li =[n/2 for n in l]"
   ]
  },
  {
   "cell_type": "code",
   "execution_count": 90,
   "id": "ea51071f-2ab6-49dc-8535-1be6cf0eed5b",
   "metadata": {},
   "outputs": [
    {
     "data": {
      "text/plain": [
       "[16.5, 1.5, 22.0, 2.0, 45.0, 10.0]"
      ]
     },
     "execution_count": 90,
     "metadata": {},
     "output_type": "execute_result"
    }
   ],
   "source": [
    "li"
   ]
  },
  {
   "cell_type": "code",
   "execution_count": 91,
   "id": "0a140d8d-5b91-4935-a0ac-e66ea223147c",
   "metadata": {},
   "outputs": [],
   "source": [
    "li =[n*n for n in l]"
   ]
  },
  {
   "cell_type": "code",
   "execution_count": 92,
   "id": "595ceb7e-3d32-4eed-8d60-4f7c07cf9d91",
   "metadata": {},
   "outputs": [
    {
     "data": {
      "text/plain": [
       "[1089, 9, 1936, 16, 8100, 400]"
      ]
     },
     "execution_count": 92,
     "metadata": {},
     "output_type": "execute_result"
    }
   ],
   "source": [
    "li"
   ]
  },
  {
   "cell_type": "code",
   "execution_count": 94,
   "id": "94cfcba9-83cd-4f89-8dc8-774e9dbae786",
   "metadata": {},
   "outputs": [
    {
     "data": {
      "text/plain": [
       "[33, 3]"
      ]
     },
     "execution_count": 94,
     "metadata": {},
     "output_type": "execute_result"
    }
   ],
   "source": [
    "# filtering\n",
    "\n",
    "[n for n in l if n % 2==1]"
   ]
  },
  {
   "cell_type": "code",
   "execution_count": 100,
   "id": "f1441802-c4d2-434f-95ea-765a7fdd71f2",
   "metadata": {},
   "outputs": [],
   "source": [
    "li=[n for n in l if n%3==0]"
   ]
  },
  {
   "cell_type": "code",
   "execution_count": 101,
   "id": "a4e5b5e3-17a5-4e89-b3a0-1e734bba1300",
   "metadata": {},
   "outputs": [
    {
     "data": {
      "text/plain": [
       "[33, 3, 90]"
      ]
     },
     "execution_count": 101,
     "metadata": {},
     "output_type": "execute_result"
    }
   ],
   "source": [
    "li"
   ]
  },
  {
   "cell_type": "code",
   "execution_count": 102,
   "id": "f8408ef0-7797-4d10-b186-7c71d03dc9ff",
   "metadata": {},
   "outputs": [],
   "source": [
    "names= ['Amruta','sakshi','sneha','pranali','sakshi','pranali','sakshi','pranali']"
   ]
  },
  {
   "cell_type": "code",
   "execution_count": 112,
   "id": "b1f9c5f8-46ad-49a6-b7ff-7be7918606ca",
   "metadata": {},
   "outputs": [
    {
     "data": {
      "text/plain": [
       "['Amruta',\n",
       " 'Sakshi',\n",
       " 'Sneha',\n",
       " 'Pranali',\n",
       " 'Sakshi',\n",
       " 'Pranali',\n",
       " 'Sakshi',\n",
       " 'Pranali']"
      ]
     },
     "execution_count": 112,
     "metadata": {},
     "output_type": "execute_result"
    }
   ],
   "source": [
    "# all names are in tiltle case\n",
    "[s.title() for s in names]"
   ]
  },
  {
   "cell_type": "code",
   "execution_count": 123,
   "id": "9ca47156-1a2a-4370-ba68-3dfadb55e0fe",
   "metadata": {},
   "outputs": [
    {
     "ename": "AttributeError",
     "evalue": "'str' object has no attribute 'startwith'",
     "output_type": "error",
     "traceback": [
      "\u001b[1;31m---------------------------------------------------------------------------\u001b[0m",
      "\u001b[1;31mAttributeError\u001b[0m                            Traceback (most recent call last)",
      "Cell \u001b[1;32mIn[123], line 3\u001b[0m\n\u001b[0;32m      1\u001b[0m \u001b[38;5;66;03m# create a new list consisting a name start with s\u001b[39;00m\n\u001b[1;32m----> 3\u001b[0m [s \u001b[38;5;28;01mfor\u001b[39;00m s \u001b[38;5;129;01min\u001b[39;00m names \u001b[38;5;28;01mif\u001b[39;00m s\u001b[38;5;241m.\u001b[39mstartwith(\u001b[38;5;124m'\u001b[39m\u001b[38;5;124ms\u001b[39m\u001b[38;5;124m'\u001b[39m)]\n",
      "Cell \u001b[1;32mIn[123], line 3\u001b[0m, in \u001b[0;36m<listcomp>\u001b[1;34m(.0)\u001b[0m\n\u001b[0;32m      1\u001b[0m \u001b[38;5;66;03m# create a new list consisting a name start with s\u001b[39;00m\n\u001b[1;32m----> 3\u001b[0m [s \u001b[38;5;28;01mfor\u001b[39;00m s \u001b[38;5;129;01min\u001b[39;00m names \u001b[38;5;28;01mif\u001b[39;00m s\u001b[38;5;241m.\u001b[39mstartwith(\u001b[38;5;124m'\u001b[39m\u001b[38;5;124ms\u001b[39m\u001b[38;5;124m'\u001b[39m)]\n",
      "\u001b[1;31mAttributeError\u001b[0m: 'str' object has no attribute 'startwith'"
     ]
    }
   ],
   "source": [
    "# create a new list consisting a name start with s\n",
    "\n",
    "[s for s in names if s.startwith('s')]"
   ]
  },
  {
   "cell_type": "code",
   "execution_count": 114,
   "id": "e8d7333d-e7cc-4997-bd3e-bc0f14de3f21",
   "metadata": {},
   "outputs": [],
   "source": [
    "# empty list\n",
    "e=[]"
   ]
  },
  {
   "cell_type": "code",
   "execution_count": 115,
   "id": "7ed9fc3b-0ee6-428a-9d5c-4742b43ad36f",
   "metadata": {},
   "outputs": [
    {
     "data": {
      "text/plain": [
       "[]"
      ]
     },
     "execution_count": 115,
     "metadata": {},
     "output_type": "execute_result"
    }
   ],
   "source": [
    "e"
   ]
  },
  {
   "cell_type": "code",
   "execution_count": 116,
   "id": "cee87885-a0ba-4195-b3c2-6e2650c6bc06",
   "metadata": {},
   "outputs": [
    {
     "data": {
      "text/plain": [
       "list"
      ]
     },
     "execution_count": 116,
     "metadata": {},
     "output_type": "execute_result"
    }
   ],
   "source": [
    "type(e)"
   ]
  },
  {
   "cell_type": "code",
   "execution_count": 117,
   "id": "79678afe-6f93-4c50-9235-6e41bdccab86",
   "metadata": {},
   "outputs": [
    {
     "ename": "IndexError",
     "evalue": "list index out of range",
     "output_type": "error",
     "traceback": [
      "\u001b[1;31m---------------------------------------------------------------------------\u001b[0m",
      "\u001b[1;31mIndexError\u001b[0m                                Traceback (most recent call last)",
      "Cell \u001b[1;32mIn[117], line 1\u001b[0m\n\u001b[1;32m----> 1\u001b[0m e[\u001b[38;5;241m0\u001b[39m]\n",
      "\u001b[1;31mIndexError\u001b[0m: list index out of range"
     ]
    }
   ],
   "source": [
    "e[0]"
   ]
  },
  {
   "cell_type": "code",
   "execution_count": 118,
   "id": "e0a45c28-05ef-40f2-87bc-3b36007a7a89",
   "metadata": {},
   "outputs": [],
   "source": [
    "# decpmpose the list\n",
    "\n",
    "mylist = [12,34,52]"
   ]
  },
  {
   "cell_type": "code",
   "execution_count": 119,
   "id": "e6d7af8c-0f45-40b6-9778-27cb79a3ee04",
   "metadata": {},
   "outputs": [],
   "source": [
    "x,y,z = mylist"
   ]
  },
  {
   "cell_type": "code",
   "execution_count": 120,
   "id": "9c3d5c20-6253-4462-9965-a46414b016e0",
   "metadata": {},
   "outputs": [
    {
     "data": {
      "text/plain": [
       "12"
      ]
     },
     "execution_count": 120,
     "metadata": {},
     "output_type": "execute_result"
    }
   ],
   "source": [
    "x"
   ]
  },
  {
   "cell_type": "code",
   "execution_count": 121,
   "id": "773d5ea5-6d1c-4f0c-84e5-f97df7e36d1a",
   "metadata": {},
   "outputs": [
    {
     "data": {
      "text/plain": [
       "34"
      ]
     },
     "execution_count": 121,
     "metadata": {},
     "output_type": "execute_result"
    }
   ],
   "source": [
    "y"
   ]
  },
  {
   "cell_type": "code",
   "execution_count": 122,
   "id": "8c03b5b1-936f-44ee-9f24-7aa5169f924c",
   "metadata": {},
   "outputs": [
    {
     "data": {
      "text/plain": [
       "52"
      ]
     },
     "execution_count": 122,
     "metadata": {},
     "output_type": "execute_result"
    }
   ],
   "source": [
    "z"
   ]
  },
  {
   "cell_type": "code",
   "execution_count": 124,
   "id": "3e7d7db6-c31b-461b-980c-1965bed34b69",
   "metadata": {},
   "outputs": [],
   "source": [
    "# functions on list"
   ]
  },
  {
   "cell_type": "code",
   "execution_count": 125,
   "id": "faced468-f3d1-49ad-b4ac-7bbe13896e6b",
   "metadata": {},
   "outputs": [
    {
     "data": {
      "text/plain": [
       "[33, 3, 44, 4, 90, 20]"
      ]
     },
     "execution_count": 125,
     "metadata": {},
     "output_type": "execute_result"
    }
   ],
   "source": [
    "l"
   ]
  },
  {
   "cell_type": "code",
   "execution_count": 126,
   "id": "65b50db0-7e43-4912-813e-adf95a527c24",
   "metadata": {},
   "outputs": [
    {
     "data": {
      "text/plain": [
       "6"
      ]
     },
     "execution_count": 126,
     "metadata": {},
     "output_type": "execute_result"
    }
   ],
   "source": [
    "len(l)"
   ]
  },
  {
   "cell_type": "code",
   "execution_count": 127,
   "id": "b69d0b64-1160-4cfc-98eb-eb992da47614",
   "metadata": {},
   "outputs": [
    {
     "data": {
      "text/plain": [
       "90"
      ]
     },
     "execution_count": 127,
     "metadata": {},
     "output_type": "execute_result"
    }
   ],
   "source": [
    "max(l)"
   ]
  },
  {
   "cell_type": "code",
   "execution_count": 128,
   "id": "4d81e66d-19d8-4420-97c3-b944139bcdb5",
   "metadata": {},
   "outputs": [
    {
     "data": {
      "text/plain": [
       "3"
      ]
     },
     "execution_count": 128,
     "metadata": {},
     "output_type": "execute_result"
    }
   ],
   "source": [
    "min(l)"
   ]
  },
  {
   "cell_type": "code",
   "execution_count": 130,
   "id": "d24e7d54-744c-494c-8c5f-c2dd71a7839a",
   "metadata": {},
   "outputs": [
    {
     "data": {
      "text/plain": [
       "194"
      ]
     },
     "execution_count": 130,
     "metadata": {},
     "output_type": "execute_result"
    }
   ],
   "source": [
    "sum(l)"
   ]
  },
  {
   "cell_type": "code",
   "execution_count": 131,
   "id": "30fe2027-9a1f-49a4-be2d-8a64d4eeed14",
   "metadata": {},
   "outputs": [
    {
     "data": {
      "text/plain": [
       "[3, 4, 20, 33, 44, 90]"
      ]
     },
     "execution_count": 131,
     "metadata": {},
     "output_type": "execute_result"
    }
   ],
   "source": [
    "sorted(l)"
   ]
  },
  {
   "cell_type": "code",
   "execution_count": 137,
   "id": "cb89668d-d64a-4bdb-ad63-46de23763be3",
   "metadata": {},
   "outputs": [
    {
     "data": {
      "text/plain": [
       "[90, 44, 33, 20, 4, 3]"
      ]
     },
     "execution_count": 137,
     "metadata": {},
     "output_type": "execute_result"
    }
   ],
   "source": [
    "sorted(l ,reverse=True)"
   ]
  },
  {
   "cell_type": "code",
   "execution_count": 138,
   "id": "97a5950c-9593-4675-abde-1661c3158e4e",
   "metadata": {},
   "outputs": [],
   "source": [
    "name ='Amruta'"
   ]
  },
  {
   "cell_type": "code",
   "execution_count": 139,
   "id": "502778b9-b4da-413c-ba5f-8b80a0e70d81",
   "metadata": {},
   "outputs": [
    {
     "data": {
      "text/plain": [
       "['A', 'm', 'r', 'u', 't', 'a']"
      ]
     },
     "execution_count": 139,
     "metadata": {},
     "output_type": "execute_result"
    }
   ],
   "source": [
    "list(name)"
   ]
  },
  {
   "cell_type": "code",
   "execution_count": 140,
   "id": "bc5565cb-ac57-4cb2-94b9-dff40ea19531",
   "metadata": {},
   "outputs": [
    {
     "data": {
      "text/plain": [
       "[33, 3, 44, 4, 90, 20]"
      ]
     },
     "execution_count": 140,
     "metadata": {},
     "output_type": "execute_result"
    }
   ],
   "source": [
    "# methods on list\n",
    "\n",
    "l"
   ]
  },
  {
   "cell_type": "code",
   "execution_count": 142,
   "id": "e6b78903-9a05-4396-8880-463915bbe6f9",
   "metadata": {},
   "outputs": [],
   "source": [
    "# append\n",
    "l.append(100)"
   ]
  },
  {
   "cell_type": "code",
   "execution_count": 143,
   "id": "07976b57-ad1c-4220-b023-f959cdf0f573",
   "metadata": {},
   "outputs": [
    {
     "data": {
      "text/plain": [
       "[33, 3, 44, 4, 90, 20, 100]"
      ]
     },
     "execution_count": 143,
     "metadata": {},
     "output_type": "execute_result"
    }
   ],
   "source": [
    "l"
   ]
  },
  {
   "cell_type": "code",
   "execution_count": 144,
   "id": "cdb59c9d-b502-49c6-8637-be4034701b73",
   "metadata": {},
   "outputs": [],
   "source": [
    "# append and extend\n",
    "\n",
    "x=[12,23,34]\n",
    "y=[12,23,34]"
   ]
  },
  {
   "cell_type": "code",
   "execution_count": 145,
   "id": "84b3c9cf-e87a-4115-892f-094dcc2bb915",
   "metadata": {},
   "outputs": [],
   "source": [
    "x.append([45,67])\n",
    "y.extend([45,67])"
   ]
  },
  {
   "cell_type": "code",
   "execution_count": 146,
   "id": "f44417c9-fe2a-4f41-93a7-c165e7538631",
   "metadata": {},
   "outputs": [
    {
     "data": {
      "text/plain": [
       "[12, 23, 34, [45, 67]]"
      ]
     },
     "execution_count": 146,
     "metadata": {},
     "output_type": "execute_result"
    }
   ],
   "source": [
    "x"
   ]
  },
  {
   "cell_type": "code",
   "execution_count": 147,
   "id": "8273cb77-5d13-4f35-8580-edada3269c65",
   "metadata": {},
   "outputs": [
    {
     "data": {
      "text/plain": [
       "[12, 23, 34, 45, 67]"
      ]
     },
     "execution_count": 147,
     "metadata": {},
     "output_type": "execute_result"
    }
   ],
   "source": [
    "y"
   ]
  },
  {
   "cell_type": "code",
   "execution_count": 148,
   "id": "7c7e8ee6-1674-4837-b087-3cc4802b8477",
   "metadata": {},
   "outputs": [
    {
     "data": {
      "text/plain": [
       "[12, 23, 34, [45, 67]]"
      ]
     },
     "execution_count": 148,
     "metadata": {},
     "output_type": "execute_result"
    }
   ],
   "source": [
    "x"
   ]
  },
  {
   "cell_type": "code",
   "execution_count": 149,
   "id": "6f9e99e9-24c2-477d-a26f-7ac7474ee554",
   "metadata": {},
   "outputs": [
    {
     "data": {
      "text/plain": [
       "[45, 67]"
      ]
     },
     "execution_count": 149,
     "metadata": {},
     "output_type": "execute_result"
    }
   ],
   "source": [
    "x[3]"
   ]
  },
  {
   "cell_type": "code",
   "execution_count": 151,
   "id": "dba5bb47-b440-4f85-b761-e3c7423b3352",
   "metadata": {},
   "outputs": [
    {
     "data": {
      "text/plain": [
       "67"
      ]
     },
     "execution_count": 151,
     "metadata": {},
     "output_type": "execute_result"
    }
   ],
   "source": [
    "x[3][1]"
   ]
  },
  {
   "cell_type": "code",
   "execution_count": 158,
   "id": "66acdaab-cf82-4534-a30c-fa8afea954ee",
   "metadata": {},
   "outputs": [],
   "source": [
    "# insert\n",
    "\n",
    "l.insert(2,177,)"
   ]
  },
  {
   "cell_type": "code",
   "execution_count": 154,
   "id": "23075846-ae16-4466-98c9-8757d78b9d31",
   "metadata": {},
   "outputs": [
    {
     "data": {
      "text/plain": [
       "[33, 3, 177, 44, 4, 90, 20, 100]"
      ]
     },
     "execution_count": 154,
     "metadata": {},
     "output_type": "execute_result"
    }
   ],
   "source": [
    "l"
   ]
  },
  {
   "cell_type": "code",
   "execution_count": 160,
   "id": "5cb343a6-d886-47f9-9558-556c606f0609",
   "metadata": {},
   "outputs": [],
   "source": [
    "# remove\n",
    "\n",
    "l.remove(177)"
   ]
  },
  {
   "cell_type": "code",
   "execution_count": 161,
   "id": "b2bd1009-f9e5-4631-a0f2-9126b1ec8bfd",
   "metadata": {},
   "outputs": [
    {
     "data": {
      "text/plain": [
       "[33, 3, 44, 4, 90, 20, 100]"
      ]
     },
     "execution_count": 161,
     "metadata": {},
     "output_type": "execute_result"
    }
   ],
   "source": [
    "l"
   ]
  },
  {
   "cell_type": "code",
   "execution_count": 163,
   "id": "706e52c5-b2bb-4505-bb71-73e13f331ca9",
   "metadata": {},
   "outputs": [
    {
     "data": {
      "text/plain": [
       "1"
      ]
     },
     "execution_count": 163,
     "metadata": {},
     "output_type": "execute_result"
    }
   ],
   "source": [
    "l.count(33)"
   ]
  },
  {
   "cell_type": "code",
   "execution_count": 165,
   "id": "1075927d-542a-4cfd-8faa-530d3ecf6b76",
   "metadata": {},
   "outputs": [
    {
     "data": {
      "text/plain": [
       "5"
      ]
     },
     "execution_count": 165,
     "metadata": {},
     "output_type": "execute_result"
    }
   ],
   "source": [
    "l.index(20)"
   ]
  },
  {
   "cell_type": "code",
   "execution_count": 166,
   "id": "085e71b0-e340-49ce-bcae-ce981b1a7518",
   "metadata": {},
   "outputs": [
    {
     "data": {
      "text/plain": [
       "100"
      ]
     },
     "execution_count": 166,
     "metadata": {},
     "output_type": "execute_result"
    }
   ],
   "source": [
    "# pop/delete\n",
    "\n",
    "l.pop()"
   ]
  },
  {
   "cell_type": "code",
   "execution_count": 167,
   "id": "c17d24ec-42c3-4396-a167-da8be16c84f8",
   "metadata": {},
   "outputs": [
    {
     "data": {
      "text/plain": [
       "[33, 3, 44, 4, 90, 20]"
      ]
     },
     "execution_count": 167,
     "metadata": {},
     "output_type": "execute_result"
    }
   ],
   "source": [
    "l"
   ]
  },
  {
   "cell_type": "code",
   "execution_count": 168,
   "id": "07118dfe-2b22-4012-8575-0b4c108e6112",
   "metadata": {},
   "outputs": [
    {
     "data": {
      "text/plain": [
       "4"
      ]
     },
     "execution_count": 168,
     "metadata": {},
     "output_type": "execute_result"
    }
   ],
   "source": [
    "l.pop(3)"
   ]
  },
  {
   "cell_type": "code",
   "execution_count": 169,
   "id": "d49327a9-703e-4281-8f14-459c69ebe5d0",
   "metadata": {},
   "outputs": [
    {
     "data": {
      "text/plain": [
       "[33, 3, 44, 90, 20]"
      ]
     },
     "execution_count": 169,
     "metadata": {},
     "output_type": "execute_result"
    }
   ],
   "source": [
    "l"
   ]
  },
  {
   "cell_type": "code",
   "execution_count": 170,
   "id": "ba7f3cd0-9be7-4ee1-adce-023465fa403e",
   "metadata": {},
   "outputs": [],
   "source": [
    "l.sort()"
   ]
  },
  {
   "cell_type": "code",
   "execution_count": 171,
   "id": "6eff497f-8503-4ba4-8cba-f5a079433176",
   "metadata": {},
   "outputs": [
    {
     "data": {
      "text/plain": [
       "[3, 20, 33, 44, 90]"
      ]
     },
     "execution_count": 171,
     "metadata": {},
     "output_type": "execute_result"
    }
   ],
   "source": [
    "l"
   ]
  },
  {
   "cell_type": "code",
   "execution_count": 173,
   "id": "720b838b-a38d-4c90-902c-614b88dcfd1a",
   "metadata": {},
   "outputs": [],
   "source": [
    "## shadow copy"
   ]
  },
  {
   "cell_type": "code",
   "execution_count": 175,
   "id": "10a4ea61-27ab-419d-8d5f-d2d1020a6120",
   "metadata": {},
   "outputs": [],
   "source": [
    "l1=[34,56,78]"
   ]
  },
  {
   "cell_type": "code",
   "execution_count": 176,
   "id": "a4156718-6262-477b-8b84-02ca54420722",
   "metadata": {},
   "outputs": [],
   "source": [
    "l2=l1"
   ]
  },
  {
   "cell_type": "code",
   "execution_count": 177,
   "id": "1f0427a0-c751-4cca-9347-ef9c21a4e670",
   "metadata": {},
   "outputs": [
    {
     "data": {
      "text/plain": [
       "[34, 56, 78]"
      ]
     },
     "execution_count": 177,
     "metadata": {},
     "output_type": "execute_result"
    }
   ],
   "source": [
    "l2"
   ]
  },
  {
   "cell_type": "code",
   "execution_count": 178,
   "id": "6d5fcbc8-ed51-4fbb-b932-c7264d0e7a45",
   "metadata": {},
   "outputs": [],
   "source": [
    "l1.append(100)"
   ]
  },
  {
   "cell_type": "code",
   "execution_count": 179,
   "id": "93902e93-d74f-4970-bfec-793880338887",
   "metadata": {},
   "outputs": [
    {
     "data": {
      "text/plain": [
       "[34, 56, 78, 100]"
      ]
     },
     "execution_count": 179,
     "metadata": {},
     "output_type": "execute_result"
    }
   ],
   "source": [
    "l1"
   ]
  },
  {
   "cell_type": "code",
   "execution_count": 180,
   "id": "8852410b-6b69-4da1-8f6f-b67a1123abea",
   "metadata": {},
   "outputs": [
    {
     "data": {
      "text/plain": [
       "[34, 56, 78, 100]"
      ]
     },
     "execution_count": 180,
     "metadata": {},
     "output_type": "execute_result"
    }
   ],
   "source": [
    "l2"
   ]
  },
  {
   "cell_type": "code",
   "execution_count": 182,
   "id": "467672bb-9bc7-4944-a8f3-4ba7dd4e5f57",
   "metadata": {},
   "outputs": [],
   "source": [
    "l1.append([45,67])"
   ]
  },
  {
   "cell_type": "code",
   "execution_count": 183,
   "id": "5feef380-3897-43c0-8018-fb861a443eef",
   "metadata": {},
   "outputs": [
    {
     "data": {
      "text/plain": [
       "[34, 56, 78, 100, [45, 67]]"
      ]
     },
     "execution_count": 183,
     "metadata": {},
     "output_type": "execute_result"
    }
   ],
   "source": [
    "l1"
   ]
  },
  {
   "cell_type": "code",
   "execution_count": 184,
   "id": "68960723-eaf8-4bbc-b2b2-9169f0f50cb7",
   "metadata": {},
   "outputs": [
    {
     "data": {
      "text/plain": [
       "[34, 56, 78, 100, [45, 67]]"
      ]
     },
     "execution_count": 184,
     "metadata": {},
     "output_type": "execute_result"
    }
   ],
   "source": [
    "l2"
   ]
  },
  {
   "cell_type": "code",
   "execution_count": 185,
   "id": "0a7208e0-6f19-46d3-83bc-6136e756c5f9",
   "metadata": {},
   "outputs": [],
   "source": [
    "###"
   ]
  },
  {
   "cell_type": "code",
   "execution_count": 186,
   "id": "bc00d529-a6c2-4258-81e3-44758e420da4",
   "metadata": {},
   "outputs": [],
   "source": [
    "l3=[45,56,67]"
   ]
  },
  {
   "cell_type": "code",
   "execution_count": 189,
   "id": "70a707e5-a3f8-4819-a485-855717816536",
   "metadata": {},
   "outputs": [],
   "source": [
    "l4 =l3.copy()"
   ]
  },
  {
   "cell_type": "code",
   "execution_count": 190,
   "id": "11a06671-be8c-4a86-b66e-59d0b0c3c191",
   "metadata": {},
   "outputs": [
    {
     "data": {
      "text/plain": [
       "[45, 56, 67]"
      ]
     },
     "execution_count": 190,
     "metadata": {},
     "output_type": "execute_result"
    }
   ],
   "source": [
    "l4"
   ]
  },
  {
   "cell_type": "code",
   "execution_count": 194,
   "id": "f4fa044d-6815-43d8-8959-ed5dda153198",
   "metadata": {},
   "outputs": [],
   "source": [
    "l3.append(1000)"
   ]
  },
  {
   "cell_type": "code",
   "execution_count": 195,
   "id": "7b4031ae-ca55-4d70-8b62-8127c0c1a981",
   "metadata": {},
   "outputs": [
    {
     "data": {
      "text/plain": [
       "[45, 56, 67]"
      ]
     },
     "execution_count": 195,
     "metadata": {},
     "output_type": "execute_result"
    }
   ],
   "source": [
    "l4"
   ]
  },
  {
   "cell_type": "code",
   "execution_count": 196,
   "id": "55f98709-f0e5-43d6-a020-5d9aaa5b2224",
   "metadata": {},
   "outputs": [
    {
     "data": {
      "text/plain": [
       "[45, 56, 67, 1000]"
      ]
     },
     "execution_count": 196,
     "metadata": {},
     "output_type": "execute_result"
    }
   ],
   "source": [
    "l3"
   ]
  },
  {
   "cell_type": "code",
   "execution_count": 213,
   "id": "e3eaef4c-8e31-484c-841f-6d5cf3e014ef",
   "metadata": {},
   "outputs": [],
   "source": [
    "l3 = [45,56,67,[34,59]]"
   ]
  },
  {
   "cell_type": "code",
   "execution_count": 209,
   "id": "670f5cc8-58b4-4278-8769-dbf25359863b",
   "metadata": {},
   "outputs": [],
   "source": [
    "l4 =l3.copy()"
   ]
  },
  {
   "cell_type": "code",
   "execution_count": 214,
   "id": "52a91bdf-47a7-4e99-8bbc-fe8dd87c3bcb",
   "metadata": {},
   "outputs": [],
   "source": [
    "l3.append(100)"
   ]
  },
  {
   "cell_type": "code",
   "execution_count": 201,
   "id": "2ad64839-8539-4d01-b0b2-ba4c06fc1fe8",
   "metadata": {},
   "outputs": [
    {
     "data": {
      "text/plain": [
       "[45, 56, 67, [34, 59], 100]"
      ]
     },
     "execution_count": 201,
     "metadata": {},
     "output_type": "execute_result"
    }
   ],
   "source": [
    "l3"
   ]
  },
  {
   "cell_type": "code",
   "execution_count": 215,
   "id": "de112d26-dfe1-4347-b7c5-6cb69632e881",
   "metadata": {},
   "outputs": [
    {
     "data": {
      "text/plain": [
       "[45, 56, 67, [34, 59, 'Amruta'], 100]"
      ]
     },
     "execution_count": 215,
     "metadata": {},
     "output_type": "execute_result"
    }
   ],
   "source": [
    "l4"
   ]
  },
  {
   "cell_type": "code",
   "execution_count": 216,
   "id": "8165e910-8a9f-4815-be3d-66678d871dd6",
   "metadata": {},
   "outputs": [],
   "source": [
    "l3[3].append('Amruta')"
   ]
  },
  {
   "cell_type": "code",
   "execution_count": 204,
   "id": "0d7aef3f-5b59-4e39-86c8-cc2cc387ac23",
   "metadata": {},
   "outputs": [
    {
     "data": {
      "text/plain": [
       "[45, 56, 67, [34, 59, 'Amruta'], 100]"
      ]
     },
     "execution_count": 204,
     "metadata": {},
     "output_type": "execute_result"
    }
   ],
   "source": [
    "l3"
   ]
  },
  {
   "cell_type": "code",
   "execution_count": 217,
   "id": "58a8f24e-becb-43ee-8a58-9018b9cdd2cb",
   "metadata": {},
   "outputs": [
    {
     "data": {
      "text/plain": [
       "[45, 56, 67, [34, 59, 'Amruta'], 100]"
      ]
     },
     "execution_count": 217,
     "metadata": {},
     "output_type": "execute_result"
    }
   ],
   "source": [
    "l4"
   ]
  },
  {
   "cell_type": "code",
   "execution_count": 237,
   "id": "ce5cfe17-39da-44a4-85ba-c5b3521bfc06",
   "metadata": {},
   "outputs": [
    {
     "data": {
      "text/plain": [
       "[3, 20, 33, 44, 90]"
      ]
     },
     "execution_count": 237,
     "metadata": {},
     "output_type": "execute_result"
    }
   ],
   "source": [
    "l"
   ]
  },
  {
   "cell_type": "code",
   "execution_count": 234,
   "id": "1d4a7b73-b650-4940-98bb-851696ea7e97",
   "metadata": {},
   "outputs": [
    {
     "name": "stdout",
     "output_type": "stream",
     "text": [
      "0 3\n",
      "1 20\n",
      "2 33\n",
      "3 44\n",
      "4 90\n"
     ]
    }
   ],
   "source": [
    "# iterate the over the list and print index as well as value\n",
    "\n",
    "for n in l:\n",
    "    print(l.index(n),n)\n",
    "\n",
    "    "
   ]
  },
  {
   "cell_type": "code",
   "execution_count": 240,
   "id": "99646a19-f52d-40dc-886a-f78ea264bcd3",
   "metadata": {},
   "outputs": [
    {
     "name": "stdout",
     "output_type": "stream",
     "text": [
      "0 3\n",
      "1 20\n",
      "2 33\n",
      "3 44\n",
      "4 90\n"
     ]
    }
   ],
   "source": [
    "for index ,n in enumerate(l):  # printinf squuance by number \n",
    "    print(index,n)"
   ]
  },
  {
   "cell_type": "code",
   "execution_count": 242,
   "id": "941730fb-6e7e-43d4-befe-edd48e78da0a",
   "metadata": {},
   "outputs": [],
   "source": [
    "#tuple\n",
    "\n",
    "t =(12,23,45,12,67)"
   ]
  },
  {
   "cell_type": "code",
   "execution_count": 243,
   "id": "98b48050-9278-49f0-aa54-8de13bf88e3d",
   "metadata": {},
   "outputs": [
    {
     "data": {
      "text/plain": [
       "tuple"
      ]
     },
     "execution_count": 243,
     "metadata": {},
     "output_type": "execute_result"
    }
   ],
   "source": [
    "type(t)"
   ]
  },
  {
   "cell_type": "code",
   "execution_count": 245,
   "id": "870d0c7c-d0da-47c4-8c14-ae00e5ce0515",
   "metadata": {},
   "outputs": [],
   "source": [
    "t=(12,23,45,12,67,'A')"
   ]
  },
  {
   "cell_type": "code",
   "execution_count": 246,
   "id": "cd44759d-6543-46e7-b786-be1a5ce3c826",
   "metadata": {},
   "outputs": [
    {
     "data": {
      "text/plain": [
       "(12, 23, 45, 12, 67, 'A')"
      ]
     },
     "execution_count": 246,
     "metadata": {},
     "output_type": "execute_result"
    }
   ],
   "source": [
    "t"
   ]
  },
  {
   "cell_type": "code",
   "execution_count": 247,
   "id": "54ba80b2-3dd3-4341-891d-42e75bf4ebb2",
   "metadata": {},
   "outputs": [
    {
     "data": {
      "text/plain": [
       "45"
      ]
     },
     "execution_count": 247,
     "metadata": {},
     "output_type": "execute_result"
    }
   ],
   "source": [
    "t[2]"
   ]
  },
  {
   "cell_type": "code",
   "execution_count": 248,
   "id": "2c81beb8-379b-4a30-84b2-fbf9e49bb5c0",
   "metadata": {},
   "outputs": [
    {
     "ename": "TypeError",
     "evalue": "'tuple' object does not support item assignment",
     "output_type": "error",
     "traceback": [
      "\u001b[1;31m---------------------------------------------------------------------------\u001b[0m",
      "\u001b[1;31mTypeError\u001b[0m                                 Traceback (most recent call last)",
      "Cell \u001b[1;32mIn[248], line 1\u001b[0m\n\u001b[1;32m----> 1\u001b[0m t[\u001b[38;5;241m2\u001b[39m]\u001b[38;5;241m=\u001b[39m\u001b[38;5;241m69\u001b[39m\n",
      "\u001b[1;31mTypeError\u001b[0m: 'tuple' object does not support item assignment"
     ]
    }
   ],
   "source": [
    "t[2]=69"
   ]
  },
  {
   "cell_type": "code",
   "execution_count": 249,
   "id": "e2575eda-7897-49f8-83c5-cb7a03a16345",
   "metadata": {},
   "outputs": [
    {
     "ename": "AttributeError",
     "evalue": "'tuple' object has no attribute 'add'",
     "output_type": "error",
     "traceback": [
      "\u001b[1;31m---------------------------------------------------------------------------\u001b[0m",
      "\u001b[1;31mAttributeError\u001b[0m                            Traceback (most recent call last)",
      "Cell \u001b[1;32mIn[249], line 1\u001b[0m\n\u001b[1;32m----> 1\u001b[0m t\u001b[38;5;241m.\u001b[39madd (\u001b[38;5;241m12\u001b[39m)\n",
      "\u001b[1;31mAttributeError\u001b[0m: 'tuple' object has no attribute 'add'"
     ]
    }
   ],
   "source": [
    "t.add (12)"
   ]
  },
  {
   "cell_type": "code",
   "execution_count": 250,
   "id": "3406dc57-8f95-4229-bcdd-58d3a98f1d9c",
   "metadata": {},
   "outputs": [],
   "source": [
    "t1=list(t)"
   ]
  },
  {
   "cell_type": "code",
   "execution_count": 252,
   "id": "b5b40d2d-9c06-430a-8414-8969324b2b8b",
   "metadata": {},
   "outputs": [
    {
     "data": {
      "text/plain": [
       "list"
      ]
     },
     "execution_count": 252,
     "metadata": {},
     "output_type": "execute_result"
    }
   ],
   "source": [
    "type(t1)"
   ]
  },
  {
   "cell_type": "code",
   "execution_count": 253,
   "id": "5f387f5a-e352-46b7-9322-297e14e9940b",
   "metadata": {},
   "outputs": [
    {
     "data": {
      "text/plain": [
       "(12, 23, 45, 12, 67, 'A')"
      ]
     },
     "execution_count": 253,
     "metadata": {},
     "output_type": "execute_result"
    }
   ],
   "source": [
    "tuple (t1)"
   ]
  },
  {
   "cell_type": "code",
   "execution_count": 254,
   "id": "d34003a5-c727-4cba-a8da-b8323114e6d6",
   "metadata": {},
   "outputs": [
    {
     "name": "stdout",
     "output_type": "stream",
     "text": [
      "Help on class tuple in module builtins:\n",
      "\n",
      "class tuple(object)\n",
      " |  tuple(iterable=(), /)\n",
      " |  \n",
      " |  Built-in immutable sequence.\n",
      " |  \n",
      " |  If no argument is given, the constructor returns an empty tuple.\n",
      " |  If iterable is specified the tuple is initialized from iterable's items.\n",
      " |  \n",
      " |  If the argument is a tuple, the return value is the same object.\n",
      " |  \n",
      " |  Built-in subclasses:\n",
      " |      asyncgen_hooks\n",
      " |      UnraisableHookArgs\n",
      " |  \n",
      " |  Methods defined here:\n",
      " |  \n",
      " |  __add__(self, value, /)\n",
      " |      Return self+value.\n",
      " |  \n",
      " |  __contains__(self, key, /)\n",
      " |      Return key in self.\n",
      " |  \n",
      " |  __eq__(self, value, /)\n",
      " |      Return self==value.\n",
      " |  \n",
      " |  __ge__(self, value, /)\n",
      " |      Return self>=value.\n",
      " |  \n",
      " |  __getattribute__(self, name, /)\n",
      " |      Return getattr(self, name).\n",
      " |  \n",
      " |  __getitem__(self, key, /)\n",
      " |      Return self[key].\n",
      " |  \n",
      " |  __getnewargs__(self, /)\n",
      " |  \n",
      " |  __gt__(self, value, /)\n",
      " |      Return self>value.\n",
      " |  \n",
      " |  __hash__(self, /)\n",
      " |      Return hash(self).\n",
      " |  \n",
      " |  __iter__(self, /)\n",
      " |      Implement iter(self).\n",
      " |  \n",
      " |  __le__(self, value, /)\n",
      " |      Return self<=value.\n",
      " |  \n",
      " |  __len__(self, /)\n",
      " |      Return len(self).\n",
      " |  \n",
      " |  __lt__(self, value, /)\n",
      " |      Return self<value.\n",
      " |  \n",
      " |  __mul__(self, value, /)\n",
      " |      Return self*value.\n",
      " |  \n",
      " |  __ne__(self, value, /)\n",
      " |      Return self!=value.\n",
      " |  \n",
      " |  __repr__(self, /)\n",
      " |      Return repr(self).\n",
      " |  \n",
      " |  __rmul__(self, value, /)\n",
      " |      Return value*self.\n",
      " |  \n",
      " |  count(self, value, /)\n",
      " |      Return number of occurrences of value.\n",
      " |  \n",
      " |  index(self, value, start=0, stop=9223372036854775807, /)\n",
      " |      Return first index of value.\n",
      " |      \n",
      " |      Raises ValueError if the value is not present.\n",
      " |  \n",
      " |  ----------------------------------------------------------------------\n",
      " |  Class methods defined here:\n",
      " |  \n",
      " |  __class_getitem__(...) from builtins.type\n",
      " |      See PEP 585\n",
      " |  \n",
      " |  ----------------------------------------------------------------------\n",
      " |  Static methods defined here:\n",
      " |  \n",
      " |  __new__(*args, **kwargs) from builtins.type\n",
      " |      Create and return a new object.  See help(type) for accurate signature.\n",
      "\n"
     ]
    }
   ],
   "source": [
    "help(tuple)"
   ]
  },
  {
   "cell_type": "code",
   "execution_count": 261,
   "id": "2f6af301-f8a6-4873-ba04-5040ee5a260a",
   "metadata": {},
   "outputs": [],
   "source": [
    "#set#"
   ]
  },
  {
   "cell_type": "code",
   "execution_count": 273,
   "id": "053fa958-6207-43cd-b3fb-571a9f8a07a2",
   "metadata": {},
   "outputs": [],
   "source": [
    "s = {34,45,56,34,78,'a'}"
   ]
  },
  {
   "cell_type": "code",
   "execution_count": 274,
   "id": "6ea0f9f8-6126-4d73-ae1b-f89eff2bd89d",
   "metadata": {},
   "outputs": [
    {
     "data": {
      "text/plain": [
       "{34, 45, 56, 78, 'a'}"
      ]
     },
     "execution_count": 274,
     "metadata": {},
     "output_type": "execute_result"
    }
   ],
   "source": [
    "s"
   ]
  },
  {
   "cell_type": "code",
   "execution_count": 260,
   "id": "a2504ee3-93ac-4735-8a16-81cac3e668f9",
   "metadata": {},
   "outputs": [
    {
     "data": {
      "text/plain": [
       "set"
      ]
     },
     "execution_count": 260,
     "metadata": {},
     "output_type": "execute_result"
    }
   ],
   "source": [
    "type(s)"
   ]
  },
  {
   "cell_type": "code",
   "execution_count": 270,
   "id": "2a14b13a-e847-4b10-a911-bd8ae9a62403",
   "metadata": {},
   "outputs": [
    {
     "ename": "TypeError",
     "evalue": "'set' object is not subscriptable",
     "output_type": "error",
     "traceback": [
      "\u001b[1;31m---------------------------------------------------------------------------\u001b[0m",
      "\u001b[1;31mTypeError\u001b[0m                                 Traceback (most recent call last)",
      "Cell \u001b[1;32mIn[270], line 1\u001b[0m\n\u001b[1;32m----> 1\u001b[0m s[\u001b[38;5;241m3\u001b[39m]\n",
      "\u001b[1;31mTypeError\u001b[0m: 'set' object is not subscriptable"
     ]
    }
   ],
   "source": [
    "s[3]"
   ]
  },
  {
   "cell_type": "code",
   "execution_count": 271,
   "id": "0591a360-fe5d-42d5-bee3-3cfffa88facb",
   "metadata": {},
   "outputs": [],
   "source": [
    "s.add(6)"
   ]
  },
  {
   "cell_type": "code",
   "execution_count": 272,
   "id": "7948be6a-d264-4aec-85c7-382123805ab1",
   "metadata": {},
   "outputs": [
    {
     "data": {
      "text/plain": [
       "{6, 34, 45, 56, 78}"
      ]
     },
     "execution_count": 272,
     "metadata": {},
     "output_type": "execute_result"
    }
   ],
   "source": [
    "s"
   ]
  },
  {
   "cell_type": "code",
   "execution_count": 275,
   "id": "c0303ba0-c41f-4c6a-9047-a5964467980b",
   "metadata": {},
   "outputs": [],
   "source": [
    "s1 = frozenset(s)"
   ]
  },
  {
   "cell_type": "code",
   "execution_count": 279,
   "id": "75a4c1bb-45ba-42e6-9d9c-7674cecdd789",
   "metadata": {},
   "outputs": [
    {
     "ename": "AttributeError",
     "evalue": "'frozenset' object has no attribute 'add'",
     "output_type": "error",
     "traceback": [
      "\u001b[1;31m---------------------------------------------------------------------------\u001b[0m",
      "\u001b[1;31mAttributeError\u001b[0m                            Traceback (most recent call last)",
      "Cell \u001b[1;32mIn[279], line 1\u001b[0m\n\u001b[1;32m----> 1\u001b[0m s1\u001b[38;5;241m.\u001b[39madd(\u001b[38;5;241m7\u001b[39m)\n",
      "\u001b[1;31mAttributeError\u001b[0m: 'frozenset' object has no attribute 'add'"
     ]
    }
   ],
   "source": [
    "s1.add(7)"
   ]
  },
  {
   "cell_type": "code",
   "execution_count": 280,
   "id": "89b09f09-3f53-4064-aec8-3710ab4a131a",
   "metadata": {},
   "outputs": [],
   "source": [
    "### dictioary = keys and values pair"
   ]
  },
  {
   "cell_type": "code",
   "execution_count": 281,
   "id": "d7e6e04b-72f7-4687-8f2d-f8aeecc16169",
   "metadata": {},
   "outputs": [],
   "source": [
    "d={1:67,2:89,3:56,7:89}"
   ]
  },
  {
   "cell_type": "code",
   "execution_count": 282,
   "id": "c197a5d9-f1dc-40d1-9239-fb8d35857525",
   "metadata": {},
   "outputs": [
    {
     "data": {
      "text/plain": [
       "{1: 67, 2: 89, 3: 56, 7: 89}"
      ]
     },
     "execution_count": 282,
     "metadata": {},
     "output_type": "execute_result"
    }
   ],
   "source": [
    "d"
   ]
  },
  {
   "cell_type": "code",
   "execution_count": 283,
   "id": "33315cbc-bc3f-4513-b985-bb0ec9df4c45",
   "metadata": {},
   "outputs": [
    {
     "data": {
      "text/plain": [
       "dict"
      ]
     },
     "execution_count": 283,
     "metadata": {},
     "output_type": "execute_result"
    }
   ],
   "source": [
    "type(d)"
   ]
  },
  {
   "cell_type": "code",
   "execution_count": 284,
   "id": "f1f68732-6a24-434f-8ef5-9f5fe5bca125",
   "metadata": {},
   "outputs": [
    {
     "data": {
      "text/plain": [
       "56"
      ]
     },
     "execution_count": 284,
     "metadata": {},
     "output_type": "execute_result"
    }
   ],
   "source": [
    "d[3]"
   ]
  },
  {
   "cell_type": "code",
   "execution_count": 285,
   "id": "fab5d650-71aa-4a7c-acfa-95179e5fab21",
   "metadata": {},
   "outputs": [
    {
     "data": {
      "text/plain": [
       "89"
      ]
     },
     "execution_count": 285,
     "metadata": {},
     "output_type": "execute_result"
    }
   ],
   "source": [
    "d[7]"
   ]
  },
  {
   "cell_type": "code",
   "execution_count": 291,
   "id": "0cf70d35-2bf7-4bdb-b1cb-606c5cf127d5",
   "metadata": {},
   "outputs": [],
   "source": [
    "d[10]=73"
   ]
  },
  {
   "cell_type": "code",
   "execution_count": 292,
   "id": "f55f421c-659f-40ea-9aa6-4fc9494aefc7",
   "metadata": {},
   "outputs": [
    {
     "data": {
      "text/plain": [
       "{1: 67, 2: 89, 3: 73, 7: 89, 10: 73}"
      ]
     },
     "execution_count": 292,
     "metadata": {},
     "output_type": "execute_result"
    }
   ],
   "source": [
    "d"
   ]
  },
  {
   "cell_type": "code",
   "execution_count": 289,
   "id": "a70ca5ee-5246-4d68-ad5a-7f9354c3f30f",
   "metadata": {},
   "outputs": [],
   "source": [
    "d[3]=73"
   ]
  },
  {
   "cell_type": "code",
   "execution_count": 293,
   "id": "b8fa5cad-eb9d-4562-b87d-c1150c41fc8e",
   "metadata": {},
   "outputs": [
    {
     "data": {
      "text/plain": [
       "{1: 67, 2: 89, 3: 73, 7: 89, 10: 73}"
      ]
     },
     "execution_count": 293,
     "metadata": {},
     "output_type": "execute_result"
    }
   ],
   "source": [
    "d"
   ]
  },
  {
   "cell_type": "code",
   "execution_count": 296,
   "id": "06fddbab-d6af-468d-ad3e-b2eb1e280f9b",
   "metadata": {},
   "outputs": [],
   "source": [
    "d[11]=[90,'Amruta']"
   ]
  },
  {
   "cell_type": "code",
   "execution_count": 297,
   "id": "ec22c417-cac1-4393-acbe-6591384cbf0f",
   "metadata": {},
   "outputs": [
    {
     "data": {
      "text/plain": [
       "{1: 67, 2: 89, 3: 73, 7: 89, 10: 73, 11: [90, 'Amruta']}"
      ]
     },
     "execution_count": 297,
     "metadata": {},
     "output_type": "execute_result"
    }
   ],
   "source": [
    "d"
   ]
  },
  {
   "cell_type": "code",
   "execution_count": 298,
   "id": "ac7d4608-5533-434a-a376-f16a24a8c796",
   "metadata": {},
   "outputs": [
    {
     "data": {
      "text/plain": [
       "dict_keys([1, 2, 3, 7, 10, 11])"
      ]
     },
     "execution_count": 298,
     "metadata": {},
     "output_type": "execute_result"
    }
   ],
   "source": [
    "d.keys()"
   ]
  },
  {
   "cell_type": "code",
   "execution_count": 299,
   "id": "992aa647-3751-4d82-b247-070d33c63587",
   "metadata": {},
   "outputs": [
    {
     "data": {
      "text/plain": [
       "dict_values([67, 89, 73, 89, 73, [90, 'Amruta']])"
      ]
     },
     "execution_count": 299,
     "metadata": {},
     "output_type": "execute_result"
    }
   ],
   "source": [
    "d.values()"
   ]
  },
  {
   "cell_type": "code",
   "execution_count": null,
   "id": "ade7d884-ad4e-4347-a7d4-f479aea872ed",
   "metadata": {},
   "outputs": [],
   "source": []
  }
 ],
 "metadata": {
  "kernelspec": {
   "display_name": "Python 3 (ipykernel)",
   "language": "python",
   "name": "python3"
  },
  "language_info": {
   "codemirror_mode": {
    "name": "ipython",
    "version": 3
   },
   "file_extension": ".py",
   "mimetype": "text/x-python",
   "name": "python",
   "nbconvert_exporter": "python",
   "pygments_lexer": "ipython3",
   "version": "3.11.7"
  }
 },
 "nbformat": 4,
 "nbformat_minor": 5
}

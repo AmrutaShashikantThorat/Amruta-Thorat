{
 "cells": [
  {
   "cell_type": "code",
   "execution_count": 2,
   "id": "b1559269-ef56-4fea-bae0-cde43fc97a1c",
   "metadata": {},
   "outputs": [
    {
     "name": "stdout",
     "output_type": "stream",
     "text": [
      "Hello\n"
     ]
    }
   ],
   "source": [
    "print(\"Hello\")"
   ]
  },
  {
   "cell_type": "markdown",
   "id": "055b62d6-afbf-4c3d-aa43-0739a7ac4970",
   "metadata": {},
   "source": [
    "num=4"
   ]
  },
  {
   "cell_type": "code",
   "execution_count": 3,
   "id": "d24bc713-3a4c-4512-affc-23a151a5e323",
   "metadata": {},
   "outputs": [
    {
     "data": {
      "text/plain": [
       "4"
      ]
     },
     "execution_count": 3,
     "metadata": {},
     "output_type": "execute_result"
    }
   ],
   "source": [
    "no=4\n",
    "no"
   ]
  },
  {
   "cell_type": "code",
   "execution_count": 4,
   "id": "035c971b-7194-42d2-9e65-44827a99b5ce",
   "metadata": {},
   "outputs": [],
   "source": [
    "a=\"Amruta\""
   ]
  },
  {
   "cell_type": "code",
   "execution_count": 7,
   "id": "7db60f3a-306a-4805-98ae-51466632fe0a",
   "metadata": {},
   "outputs": [
    {
     "data": {
      "text/plain": [
       "'Amruta'"
      ]
     },
     "execution_count": 7,
     "metadata": {},
     "output_type": "execute_result"
    }
   ],
   "source": [
    "String = \"Amruta\"\n",
    "String"
   ]
  },
  {
   "cell_type": "code",
   "execution_count": 8,
   "id": "2e559d01-9705-435e-933c-d3ab7ac0a100",
   "metadata": {},
   "outputs": [
    {
     "name": "stdout",
     "output_type": "stream",
     "text": [
      "Hello\n"
     ]
    }
   ],
   "source": [
    "String=\"Hello\"\n",
    "print(String)"
   ]
  },
  {
   "cell_type": "code",
   "execution_count": 13,
   "id": "15cec8d4-fec2-4574-84a6-1388ccf11640",
   "metadata": {},
   "outputs": [
    {
     "data": {
      "text/plain": [
       "str"
      ]
     },
     "execution_count": 13,
     "metadata": {},
     "output_type": "execute_result"
    }
   ],
   "source": [
    "type(String)"
   ]
  },
  {
   "cell_type": "code",
   "execution_count": 15,
   "id": "a02721e9-338c-474b-949f-68b49e5d2eaf",
   "metadata": {},
   "outputs": [
    {
     "data": {
      "text/plain": [
       "int"
      ]
     },
     "execution_count": 15,
     "metadata": {},
     "output_type": "execute_result"
    }
   ],
   "source": [
    "type(no)"
   ]
  },
  {
   "cell_type": "markdown",
   "id": "aa14d90c-8b76-48c5-ba59-80d3ef7da4c9",
   "metadata": {},
   "source": [
    "12**2} "
   ]
  },
  {
   "cell_type": "code",
   "execution_count": 16,
   "id": "cfcb55ef-53d3-4d0e-ad76-ff16e7ce065a",
   "metadata": {},
   "outputs": [
    {
     "data": {
      "text/plain": [
       "144"
      ]
     },
     "execution_count": 16,
     "metadata": {},
     "output_type": "execute_result"
    }
   ],
   "source": [
    "12**2"
   ]
  },
  {
   "cell_type": "code",
   "execution_count": 18,
   "id": "497c051a-4a0f-4372-a3b4-d3375c84d2f4",
   "metadata": {},
   "outputs": [],
   "source": [
    "y=56e3"
   ]
  },
  {
   "cell_type": "code",
   "execution_count": 19,
   "id": "4fabec1e-83fb-418b-b03d-5116fecbb43a",
   "metadata": {},
   "outputs": [
    {
     "name": "stdout",
     "output_type": "stream",
     "text": [
      "56000.0\n"
     ]
    }
   ],
   "source": [
    "print(y)"
   ]
  },
  {
   "cell_type": "code",
   "execution_count": 20,
   "id": "032dc566-2a46-4c19-b190-e87090cfa578",
   "metadata": {},
   "outputs": [],
   "source": [
    "sent=\"i like phyton programming\""
   ]
  },
  {
   "cell_type": "code",
   "execution_count": 21,
   "id": "3297e978-ab86-4da0-a2cc-fd5a2fdde7e6",
   "metadata": {},
   "outputs": [
    {
     "name": "stdout",
     "output_type": "stream",
     "text": [
      "i like phyton programming\n"
     ]
    }
   ],
   "source": [
    "print(sent)"
   ]
  },
  {
   "cell_type": "code",
   "execution_count": 22,
   "id": "0299f9b2-e883-4323-89ca-e18ba879636b",
   "metadata": {},
   "outputs": [],
   "source": [
    "num1,num2,num3,num4=12,23,34,'aa'"
   ]
  },
  {
   "cell_type": "code",
   "execution_count": 23,
   "id": "4536b9b2-383e-4b07-b4d3-c027677bb10a",
   "metadata": {},
   "outputs": [
    {
     "name": "stdout",
     "output_type": "stream",
     "text": [
      "12 23\n"
     ]
    }
   ],
   "source": [
    "print(num1,num2)"
   ]
  },
  {
   "cell_type": "code",
   "execution_count": 24,
   "id": "1fe7276a-5844-4057-b83c-b5ca41cee3e0",
   "metadata": {},
   "outputs": [
    {
     "name": "stdout",
     "output_type": "stream",
     "text": [
      "aa\n"
     ]
    }
   ],
   "source": [
    "print(num4)"
   ]
  },
  {
   "cell_type": "code",
   "execution_count": 25,
   "id": "3c6e7eca-0253-472e-b58c-7890c271927c",
   "metadata": {},
   "outputs": [],
   "source": [
    "num1=23;num2=3;result=num1+num2;"
   ]
  },
  {
   "cell_type": "code",
   "execution_count": 26,
   "id": "76d895cb-4203-4b94-acae-600a31316c2b",
   "metadata": {},
   "outputs": [
    {
     "name": "stdout",
     "output_type": "stream",
     "text": [
      "26\n"
     ]
    }
   ],
   "source": [
    "print(result)"
   ]
  },
  {
   "cell_type": "code",
   "execution_count": null,
   "id": "4afaf81f-6dbd-40c3-9ce5-ac387dfc6211",
   "metadata": {},
   "outputs": [],
   "source": []
  }
 ],
 "metadata": {
  "kernelspec": {
   "display_name": "Python 3 (ipykernel)",
   "language": "python",
   "name": "python3"
  },
  "language_info": {
   "codemirror_mode": {
    "name": "ipython",
    "version": 3
   },
   "file_extension": ".py",
   "mimetype": "text/x-python",
   "name": "python",
   "nbconvert_exporter": "python",
   "pygments_lexer": "ipython3",
   "version": "3.11.7"
  }
 },
 "nbformat": 4,
 "nbformat_minor": 5
}

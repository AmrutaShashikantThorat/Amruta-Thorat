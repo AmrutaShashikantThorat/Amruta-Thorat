{
 "cells": [
  {
   "cell_type": "code",
   "execution_count": 1,
   "id": "f2cb0be5-be1b-4317-a24a-0c4e976872ef",
   "metadata": {},
   "outputs": [
    {
     "name": "stdout",
     "output_type": "stream",
     "text": [
      "ok\n"
     ]
    }
   ],
   "source": [
    "#check the number is grtarer than 50\n",
    "num= 67\n",
    "if num>50:\n",
    "    print('ok')"
   ]
  },
  {
   "cell_type": "code",
   "execution_count": 2,
   "id": "da0692a6-aaf8-4681-b29a-e28e497b9361",
   "metadata": {},
   "outputs": [],
   "source": [
    "num= 45\n",
    "if num>50:\n",
    "    print('ok')"
   ]
  },
  {
   "cell_type": "code",
   "execution_count": 3,
   "id": "d4534bdc-9604-4289-9e9a-324fd4c91f1a",
   "metadata": {},
   "outputs": [
    {
     "name": "stdin",
     "output_type": "stream",
     "text": [
      "Enter the number 68\n"
     ]
    },
    {
     "name": "stdout",
     "output_type": "stream",
     "text": [
      "ok\n"
     ]
    }
   ],
   "source": [
    "num= int(input('Enter the number'))\n",
    "if num>50:\n",
    "    print('ok')"
   ]
  },
  {
   "cell_type": "code",
   "execution_count": 12,
   "id": "e8f89cea-3e5f-4a5c-90c7-9e968c27d38e",
   "metadata": {},
   "outputs": [
    {
     "name": "stdin",
     "output_type": "stream",
     "text": [
      "Enter the number 56\n"
     ]
    },
    {
     "name": "stdout",
     "output_type": "stream",
     "text": [
      "Postive\n",
      "ok\n"
     ]
    }
   ],
   "source": [
    "#postive or ngeative\n",
    "\n",
    "num = int(input('Enter the number'))\n",
    "if num>0:\n",
    "              print('Postive')\n",
    "              print('ok')\n",
    "else:\n",
    "    print('negative')\n",
    "    print('goodbye')\n",
    "\n"
   ]
  },
  {
   "cell_type": "code",
   "execution_count": 13,
   "id": "ac444970-fcec-437c-a354-4f309dd3bc23",
   "metadata": {},
   "outputs": [
    {
     "name": "stdin",
     "output_type": "stream",
     "text": [
      "Enter the number 0\n"
     ]
    },
    {
     "name": "stdout",
     "output_type": "stream",
     "text": [
      "zero\n"
     ]
    }
   ],
   "source": [
    "num = int(input('Enter the number'))\n",
    "if num>0:\n",
    "              print('Postive')\n",
    "elif num==0:\n",
    "    print('zero')\n",
    "else:\n",
    "    print(negative)"
   ]
  },
  {
   "cell_type": "code",
   "execution_count": 16,
   "id": "72f759fb-32bc-4741-b2c8-5f54b0c92969",
   "metadata": {},
   "outputs": [
    {
     "name": "stdin",
     "output_type": "stream",
     "text": [
      "Enter the number 0\n"
     ]
    },
    {
     "name": "stdout",
     "output_type": "stream",
     "text": [
      "even\n"
     ]
    }
   ],
   "source": [
    "#check if the number is odd or even\n",
    "\n",
    "num = int(input('Enter the number'))\n",
    "if num %2 ==0:\n",
    "    print('even')\n",
    "else:\n",
    "    print('odd')"
   ]
  },
  {
   "cell_type": "code",
   "execution_count": 18,
   "id": "27a587a2-018a-4988-b175-8cc115802a0b",
   "metadata": {},
   "outputs": [
    {
     "data": {
      "text/plain": [
       "0"
      ]
     },
     "execution_count": 18,
     "metadata": {},
     "output_type": "execute_result"
    }
   ],
   "source": [
    "int(False)"
   ]
  },
  {
   "cell_type": "code",
   "execution_count": 19,
   "id": "3a1f0e24-1235-4b0f-8515-6630d63aa7de",
   "metadata": {},
   "outputs": [
    {
     "data": {
      "text/plain": [
       "2"
      ]
     },
     "execution_count": 19,
     "metadata": {},
     "output_type": "execute_result"
    }
   ],
   "source": [
    "True+True-False"
   ]
  },
  {
   "cell_type": "code",
   "execution_count": 20,
   "id": "87255fe9-90d9-45f2-a57a-ad5745974c21",
   "metadata": {},
   "outputs": [
    {
     "name": "stdout",
     "output_type": "stream",
     "text": [
      "****\n"
     ]
    }
   ],
   "source": [
    "a=12\n",
    "\n",
    "if a:\n",
    "    print('****')"
   ]
  },
  {
   "cell_type": "code",
   "execution_count": 33,
   "id": "7850dac4-42a7-4b4c-b72e-ec33172119b2",
   "metadata": {},
   "outputs": [
    {
     "ename": "IndentationError",
     "evalue": "expected an indented block after 'if' statement on line 6 (936672629.py, line 7)",
     "output_type": "error",
     "traceback": [
      "\u001b[1;36m  Cell \u001b[1;32mIn[33], line 7\u001b[1;36m\u001b[0m\n\u001b[1;33m    print('Correct')\u001b[0m\n\u001b[1;37m    ^\u001b[0m\n\u001b[1;31mIndentationError\u001b[0m\u001b[1;31m:\u001b[0m expected an indented block after 'if' statement on line 6\n"
     ]
    }
   ],
   "source": [
    "#check the number is between 59 and 150\n",
    "\n",
    "num = int(input('Enter the number'))\n",
    "\n",
    "if num > 50:\n",
    "    if num < 150:\n",
    "    print('Correct')\n",
    "else:\n",
    "    print('Grater than 150')\n",
    "else:\n",
    "   print('Incorrect')\n"
   ]
  },
  {
   "cell_type": "code",
   "execution_count": 31,
   "id": "c0c1b46f-79cc-49ee-ac62-b9c74ec39ec9",
   "metadata": {},
   "outputs": [
    {
     "name": "stdin",
     "output_type": "stream",
     "text": [
      "Enter the number 56\n"
     ]
    },
    {
     "name": "stdout",
     "output_type": "stream",
     "text": [
      "Correct\n"
     ]
    }
   ],
   "source": [
    "num = int(input('Enter the number'))\n",
    "\n",
    "if num > 50 and num < 150 :\n",
    "    print('Correct')\n",
    "else:\n",
    "    print('Incorrect')"
   ]
  },
  {
   "cell_type": "code",
   "execution_count": 38,
   "id": "ae2e8dd6-4931-4438-b960-69344955d8cc",
   "metadata": {},
   "outputs": [
    {
     "name": "stdin",
     "output_type": "stream",
     "text": [
      "Enter the purchase cost 56\n",
      "Enter the selling cost 65\n"
     ]
    },
    {
     "name": "stdout",
     "output_type": "stream",
     "text": [
      "profit 9\n"
     ]
    }
   ],
   "source": [
    "#read selling cost and purchase cost\n",
    "#find profit or loss and how much\n",
    "\n",
    "Purchase_Cost = int(input('Enter the purchase cost'))\n",
    "Selling_Cost= int(input('Enter the selling cost'))\n",
    "\n",
    "if Selling_Cost > Purchase_Cost:\n",
    "    print('profit',Selling_Cost - Purchase_Cost)\n",
    "else:\n",
    "    print('Loss', Purchase_Cost-Selling_Cost )\n",
    "\n",
    "\n"
   ]
  },
  {
   "cell_type": "code",
   "execution_count": 53,
   "id": "dbe22340-f6de-435e-acd4-c5d1b8d3a9fe",
   "metadata": {},
   "outputs": [
    {
     "ename": "SyntaxError",
     "evalue": "invalid syntax (889737829.py, line 13)",
     "output_type": "error",
     "traceback": [
      "\u001b[1;36m  Cell \u001b[1;32mIn[53], line 13\u001b[1;36m\u001b[0m\n\u001b[1;33m    else:\u001b[0m\n\u001b[1;37m    ^\u001b[0m\n\u001b[1;31mSyntaxError\u001b[0m\u001b[1;31m:\u001b[0m invalid syntax\n"
     ]
    }
   ],
   "source": [
    "#find the largest numbers\n",
    "#;and','or'not allowed\n",
    "\n",
    "a = int(input('Enter the numbers'))\n",
    "b = int(input('Enter the  number'))\n",
    "c = int(input('Enter the  number'))\n",
    "\n",
    "if a > b:\n",
    "    if a > c :\n",
    "      print('a is grater',a)\n",
    "else:\n",
    "    print('c is grater',c)\n",
    "else:\n",
    "if b>c:\n",
    "    print('b is grater'b)\n",
    "else:\n",
    "    print('c is grater'c)\n"
   ]
  },
  {
   "cell_type": "code",
   "execution_count": 76,
   "id": "198a0129-0bf1-44e8-9e30-a79ac824af42",
   "metadata": {},
   "outputs": [
    {
     "name": "stdin",
     "output_type": "stream",
     "text": [
      "Enter the year 1800\n"
     ]
    },
    {
     "name": "stdout",
     "output_type": "stream",
     "text": [
      "century but not leap year\n"
     ]
    }
   ],
   "source": [
    "year = int(input('Enter the year'))\n",
    "if year % 4 == 0:\n",
    "    if year % 100 == 0:\n",
    "        if year % 400 ==0:\n",
    "            print('leap century year')\n",
    "        else:\n",
    "            print('century but not leap year')\n",
    "    else:\n",
    "        print('leap year')\n",
    "\n",
    "else:\n",
    "    print('not leap')\n",
    "\n",
    "            \n",
    "            \n",
    "            "
   ]
  },
  {
   "cell_type": "code",
   "execution_count": 80,
   "id": "2d7261ad-152e-4ff9-9815-373e3a43f52d",
   "metadata": {},
   "outputs": [
    {
     "name": "stdin",
     "output_type": "stream",
     "text": [
      "Enter the physics marks 21\n",
      "Enter the Chemistry marks 11\n",
      "Enter the Biology marks 11\n",
      "Enter the Maths marks 11\n",
      "Enter the Computer marks 11\n"
     ]
    },
    {
     "name": "stdout",
     "output_type": "stream",
     "text": [
      "Gread A\n"
     ]
    }
   ],
   "source": [
    "Physics = float(input('Enter the physics marks'))\n",
    "Chemistry= float(input('Enter the Chemistry marks'))\n",
    "Biology = float(input('Enter the Biology marks'))\n",
    "Maths = float(input('Enter the Maths marks'))\n",
    "Computer = float(input('Enter the Computer marks'))\n",
    "\n",
    "perc = (Physics+Chemistry+Biology+Maths+Computer/500)*100\n",
    "\n",
    "if perc >= 90:\n",
    "    print('Gread A's)\n",
    "elif perc >= 80:\n",
    "    print('Gread B')\n",
    "elif perc >= 70:\n",
    "    print('Gread C')\n",
    "elif perc >= 60:\n",
    "    print('Gread D')\n",
    "\n",
    "else:\n",
    "    print('Fail')"
   ]
  },
  {
   "cell_type": "code",
   "execution_count": 88,
   "id": "17dceb33-48fa-4095-aa9c-346443fca859",
   "metadata": {},
   "outputs": [
    {
     "name": "stdin",
     "output_type": "stream",
     "text": [
      "Enter the number 4\n"
     ]
    },
    {
     "name": "stdout",
     "output_type": "stream",
     "text": [
      "MENU\n",
      "1.Square \n",
      "2.Cube \n",
      "3.Check postive or neagative\n"
     ]
    },
    {
     "ename": "NameError",
     "evalue": "name 'choice' is not defined",
     "output_type": "error",
     "traceback": [
      "\u001b[1;31m---------------------------------------------------------------------------\u001b[0m",
      "\u001b[1;31mNameError\u001b[0m                                 Traceback (most recent call last)",
      "Cell \u001b[1;32mIn[88], line 10\u001b[0m\n\u001b[0;32m      6\u001b[0m num\u001b[38;5;241m=\u001b[39m\u001b[38;5;28mint\u001b[39m(\u001b[38;5;28minput\u001b[39m(\u001b[38;5;124m'\u001b[39m\u001b[38;5;124mEnter the number\u001b[39m\u001b[38;5;124m'\u001b[39m))\n\u001b[0;32m      8\u001b[0m \u001b[38;5;28mprint\u001b[39m(\u001b[38;5;124m\"\u001b[39m\u001b[38;5;124mMENU\u001b[39m\u001b[38;5;130;01m\\n\u001b[39;00m\u001b[38;5;124m1.Square \u001b[39m\u001b[38;5;130;01m\\n\u001b[39;00m\u001b[38;5;124m2.Cube \u001b[39m\u001b[38;5;130;01m\\n\u001b[39;00m\u001b[38;5;124m3.Check postive or neagative\u001b[39m\u001b[38;5;124m\"\u001b[39m)\n\u001b[1;32m---> 10\u001b[0m choice\u001b[38;5;241m=\u001b[39m \u001b[38;5;28mint\u001b[39m(choice(\u001b[38;5;124m'\u001b[39m\u001b[38;5;124mEnter the choice\u001b[39m\u001b[38;5;124m'\u001b[39m))\n\u001b[0;32m     12\u001b[0m \u001b[38;5;28;01mif\u001b[39;00m Choice\u001b[38;5;241m==\u001b[39m\u001b[38;5;241m1\u001b[39m:\n\u001b[0;32m     13\u001b[0m     \u001b[38;5;28mprint\u001b[39m(\u001b[38;5;124m'\u001b[39m\u001b[38;5;124mSquare is\u001b[39m\u001b[38;5;124m'\u001b[39m,num\u001b[38;5;241m*\u001b[39mnum)\n",
      "\u001b[1;31mNameError\u001b[0m: name 'choice' is not defined"
     ]
    }
   ],
   "source": [
    "# menu driven\n",
    "'''take a number and based on the choice perform \n",
    "1.squre 2.cube 3.check postive or ngative\n",
    "'''\n",
    "\n",
    "num=int(input('Enter the number'))\n",
    "\n",
    "print(\"MENU\\n1.Square \\n2.Cube \\n3.Check postive or neagative\")\n",
    "\n",
    "choice= int(choice('Enter the choice'))\n",
    "\n",
    "if Choice==1:\n",
    "    print('Square is',num*num)\n",
    "elif Choice==2:\n",
    "    print('Cube is',num**3)\n",
    "elif Choice==3:\n",
    "    if num>0:\n",
    "        print('Postive')\n",
    "    else:\n",
    "        print('neagtive')\n",
    "else:\n",
    "    print('Wrong Choice')\n",
    "    \n"
   ]
  },
  {
   "cell_type": "code",
   "execution_count": null,
   "id": "5397fcb1-8534-48ae-b359-8e86556f5151",
   "metadata": {},
   "outputs": [],
   "source": [
    "'''take a number and based on the choice perform \n",
    "1.Addtion 2.floor div 3.check which is largest\n",
    "'''"
   ]
  },
  {
   "cell_type": "code",
   "execution_count": null,
   "id": "bb464864-cd8a-421c-9108-61a6d8d01e32",
   "metadata": {},
   "outputs": [],
   "source": []
  }
 ],
 "metadata": {
  "kernelspec": {
   "display_name": "Python 3 (ipykernel)",
   "language": "python",
   "name": "python3"
  },
  "language_info": {
   "codemirror_mode": {
    "name": "ipython",
    "version": 3
   },
   "file_extension": ".py",
   "mimetype": "text/x-python",
   "name": "python",
   "nbconvert_exporter": "python",
   "pygments_lexer": "ipython3",
   "version": "3.11.7"
  }
 },
 "nbformat": 4,
 "nbformat_minor": 5
}

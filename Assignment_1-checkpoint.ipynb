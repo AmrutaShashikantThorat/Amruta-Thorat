{
 "cells": [
  {
   "cell_type": "code",
   "execution_count": 3,
   "id": "14e9ad47-e04d-4b5f-9665-d9910f1e2896",
   "metadata": {},
   "outputs": [
    {
     "name": "stdin",
     "output_type": "stream",
     "text": [
      "enter the number of days 366\n"
     ]
    },
    {
     "name": "stdout",
     "output_type": "stream",
     "text": [
      "conversion is 1 : 52 : 366\n"
     ]
    }
   ],
   "source": [
    "# 1. writre a program to convert specfied days into years ,weeks and days.\n",
    "# take user input\n",
    "# note: ingonre leap year\n",
    "\n",
    "days = int(input ('enter the number of days'))\n",
    "if days % 4 ==0:\n",
    "    if days % 400 ==0:\n",
    "        print('leap year')\n",
    "    else:\n",
    "        print('Not leap year')\n",
    "Years = days // 365\n",
    "Weeks = days//7\n",
    "rem_days = days //365\n",
    "rem_weeks = days //4\n",
    "\n",
    "print('conversion is' ,Years,':',Weeks,':',days)"
   ]
  },
  {
   "cell_type": "code",
   "execution_count": 6,
   "id": "e88e0878-b14b-4f49-a788-7c3ceec3ee4e",
   "metadata": {},
   "outputs": [
    {
     "name": "stdin",
     "output_type": "stream",
     "text": [
      "Enter Basic_Salary of employee: 32\n"
     ]
    },
    {
     "name": "stdout",
     "output_type": "stream",
     "text": [
      "Gross_Salary: 64.0\n"
     ]
    }
   ],
   "source": [
    "# 2. write a python program to input basipython salary of an employee and calculate its gross salary according to following:\n",
    "# basic salary <=10000 : HRA = 20%,DA=80%\n",
    "# basic salary <=20000 : HRA = 30%,DA=90%\n",
    "# basic salary <=20000 : HRA = 35%,DA=95%\n",
    "\n",
    "Basic_Salary = int(input('Enter Basic_Salary of employee:'))\n",
    "if Basic_Salary <= 10000:\n",
    "    HRA = (Basic_Salary*20)/100\n",
    "    DA = (Basic_Salary*80)/100\n",
    "    Gross_Salary = Basic_Salary + HRA + DA\n",
    "    print('Gross_Salary:',Gross_Salary)\n",
    "elif Basic_Salary <= 20000:\n",
    "    HRA = (Basic_Salary*30)/100\n",
    "    DA = (Basic_Salary*90)/100\n",
    "    Gross_Salary = Basic_Salary + HRA + DA\n",
    "    print('Gross_Salary:',Gross_Salary)\n",
    "else:\n",
    "    if Basic_Salary > 20000:\n",
    "        HRA = (Basic_Salary*35)/100\n",
    "        DA = (Basic_Salary*95)/100\n",
    "        Gross_Salary = Basic_Salary + HRA + DA\n",
    "        print('Gross_Salary:',Gross_Salary)"
   ]
  },
  {
   "cell_type": "code",
   "execution_count": 1,
   "id": "d6951f8a-5b9e-4b29-86e4-cb85c26390db",
   "metadata": {},
   "outputs": [
    {
     "name": "stdin",
     "output_type": "stream",
     "text": [
      "Enter the number of units: 12\n"
     ]
    },
    {
     "name": "stdout",
     "output_type": "stream",
     "text": [
      "Cost to be paid is: 6.0\n"
     ]
    }
   ],
   "source": [
    "# 3. write a python proram to input electricity unit chrages and calculate total electricity bill according the given condition:\n",
    "# for first 50 unit rs.0.50/unit\n",
    "# for first 100 unit rs.0.75/unit\n",
    "# for first 100 unit rs.1.25/unit\n",
    "# for unit above 250 rs.1.50 /unit\n",
    "\n",
    "units=int(input('Enter the number of units:'))\n",
    "if units <= 50:\n",
    "    cost = 0.50*units\n",
    "    print('Cost to be paid is:',cost)\n",
    "elif units >= 50 and units <= 150:\n",
    "    cost = 0.75*units\n",
    "    print('Cost to be paid is:',cost)\n",
    "elif units >= 150 and units <=200:\n",
    "    cost = 1.25*units\n",
    "    print('Cost to be paid is:',cost)\n",
    "else:\n",
    "    if units > 250:\n",
    "        cost = units*1.50\n",
    "        extra_charge =(cost / 17)*100\n",
    "        Total_Bill = cost+extra_charge\n",
    "        print('Cost to be paid is:',Total_Bill)\n"
   ]
  },
  {
   "cell_type": "code",
   "execution_count": 2,
   "id": "78072a25-f48b-4dd7-8802-ea9c42231ea6",
   "metadata": {},
   "outputs": [
    {
     "name": "stdin",
     "output_type": "stream",
     "text": [
      "Enter the number of rows: 2\n"
     ]
    },
    {
     "name": "stdout",
     "output_type": "stream",
     "text": [
      "1 \n",
      "2 2 \n"
     ]
    }
   ],
   "source": [
    "# 4. write a python program to print the given number pattern \n",
    "# 1\n",
    "# 2 2\n",
    "# 3 3 3\n",
    "# 4 4 4 4\n",
    "# 5 5 5 5 5\n",
    "\n",
    "\n",
    "\n",
    "row=int(input('Enter the number of rows:'))\n",
    "\n",
    "for i in range(row):\n",
    "    for j in range(i+1): \n",
    "        print(i+1,end=' ')\n",
    "    print()"
   ]
  },
  {
   "cell_type": "code",
   "execution_count": 5,
   "id": "3d03cb6c-ca1f-4976-b6db-796561e22aa9",
   "metadata": {},
   "outputs": [
    {
     "name": "stdin",
     "output_type": "stream",
     "text": [
      "Enter the number: 3456\n"
     ]
    },
    {
     "name": "stdout",
     "output_type": "stream",
     "text": [
      "Product of digits is: 360\n"
     ]
    }
   ],
   "source": [
    "# 5.write a python program to calculate product of digits of a number read value of n form user\n",
    "\n",
    "num =int(input('Enter the number:'))\n",
    "POD = 1\n",
    "while num > 1:\n",
    "    rem = num % 10\n",
    "    POD = POD * rem\n",
    "    num = num // 10\n",
    "print('Product of digits is:',POD)"
   ]
  },
  {
   "cell_type": "code",
   "execution_count": 7,
   "id": "3eaa64d1-9de3-4f29-88fd-f9b1b1260524",
   "metadata": {},
   "outputs": [
    {
     "data": {
      "text/plain": [
       "[45, 67, 12, 'Hello', 23.45, 'World']"
      ]
     },
     "execution_count": 7,
     "metadata": {},
     "output_type": "execute_result"
    }
   ],
   "source": [
    " '''Q.6. \n",
    "Create a list of elements like: x = [45,67,12,'Hello',23.45,'World'] and\n",
    "perform following operations\n",
    "1. Extract only string values from this list.\n",
    "2. Create a new list with strings in upper case.\n",
    "3. Find the addition of integer values.\n",
    "4. Check that the value 56 is present in it or not.\n",
    "5. Print the list in reverse order.\n",
    "6. Delete the string 'Hello' from it.\n",
    "7. Insert a new value of 36 at 5th position in list.\n",
    "8. Count total number of elements in list now.\n",
    "9. Extract the values from 2nd index to 5th index.\n",
    "10. Append[34,'Pune'] to this list.\n",
    "11. Delete the last element from list.\n",
    "'''\n",
    "x = [45,67,12,'Hello',23.45,'World']\n",
    "\n",
    "x"
   ]
  },
  {
   "cell_type": "code",
   "execution_count": 8,
   "id": "fc094169-277e-4464-994b-4a6155eb563f",
   "metadata": {},
   "outputs": [
    {
     "data": {
      "text/plain": [
       "('Hello', 'World')"
      ]
     },
     "execution_count": 8,
     "metadata": {},
     "output_type": "execute_result"
    }
   ],
   "source": [
    "### 1.\n",
    "x[3],x[5]"
   ]
  },
  {
   "cell_type": "code",
   "execution_count": 9,
   "id": "c301d2f7-94db-44cc-83c8-4aca198fbc76",
   "metadata": {},
   "outputs": [],
   "source": [
    "###2.\n",
    "\n",
    "names=['Amruta','Pranali','Sara','Malti']"
   ]
  },
  {
   "cell_type": "code",
   "execution_count": 10,
   "id": "e0d6589a-6865-42a5-b81b-f8154766d22c",
   "metadata": {},
   "outputs": [
    {
     "data": {
      "text/plain": [
       "['AMRUTA', 'PRANALI', 'SARA', 'MALTI']"
      ]
     },
     "execution_count": 10,
     "metadata": {},
     "output_type": "execute_result"
    }
   ],
   "source": [
    "[n.upper() for n in names]"
   ]
  },
  {
   "cell_type": "code",
   "execution_count": 15,
   "id": "0cff18c7-e67e-485c-a59f-401789cec119",
   "metadata": {},
   "outputs": [
    {
     "name": "stdout",
     "output_type": "stream",
     "text": [
      "Sum of intger values: 45\n",
      "Sum of intger values: 112\n",
      "Sum of intger values: 124\n"
     ]
    }
   ],
   "source": [
    "###.3 \n",
    "\n",
    "x = [45,67,12,'Hello',23.45,'Wrold']\n",
    "sum=0\n",
    "for i in x:\n",
    "    if isinstance(i,int):\n",
    "        sum+=i\n",
    "        print('Sum of intger values:',sum)"
   ]
  },
  {
   "cell_type": "code",
   "execution_count": 16,
   "id": "b6cac137-9e1e-4bdc-b00d-77643142c65a",
   "metadata": {},
   "outputs": [
    {
     "data": {
      "text/plain": [
       "False"
      ]
     },
     "execution_count": 16,
     "metadata": {},
     "output_type": "execute_result"
    }
   ],
   "source": [
    "###4.\n",
    "56 in x"
   ]
  },
  {
   "cell_type": "code",
   "execution_count": 17,
   "id": "49d67306-21ae-4cfc-8edc-8450d877aa1b",
   "metadata": {},
   "outputs": [
    {
     "data": {
      "text/plain": [
       "[45, 67, 12, 'Hello', 23.45, 'Wrold']"
      ]
     },
     "execution_count": 17,
     "metadata": {},
     "output_type": "execute_result"
    }
   ],
   "source": [
    "x"
   ]
  },
  {
   "cell_type": "code",
   "execution_count": 21,
   "id": "1f217718-d743-446d-8dcb-fe45a681c0b3",
   "metadata": {},
   "outputs": [],
   "source": [
    "x.reverse()"
   ]
  },
  {
   "cell_type": "code",
   "execution_count": 22,
   "id": "7e7da88d-ec85-4033-93e8-959819955c55",
   "metadata": {},
   "outputs": [
    {
     "data": {
      "text/plain": [
       "['Wrold', 23.45, 'Hello', 12, 67, 45]"
      ]
     },
     "execution_count": 22,
     "metadata": {},
     "output_type": "execute_result"
    }
   ],
   "source": [
    "x"
   ]
  },
  {
   "cell_type": "code",
   "execution_count": 23,
   "id": "28e25482-e697-4976-ab71-b2d09f383eb6",
   "metadata": {},
   "outputs": [],
   "source": [
    "### 6.\n",
    "\n",
    "x.remove('Hello')"
   ]
  },
  {
   "cell_type": "code",
   "execution_count": 24,
   "id": "ecfffd48-fe90-4975-9001-0f8e83f515ef",
   "metadata": {},
   "outputs": [
    {
     "data": {
      "text/plain": [
       "['Wrold', 23.45, 12, 67, 45]"
      ]
     },
     "execution_count": 24,
     "metadata": {},
     "output_type": "execute_result"
    }
   ],
   "source": [
    "x"
   ]
  },
  {
   "cell_type": "code",
   "execution_count": 25,
   "id": "c6938e96-291b-4f96-9369-cd7a332db2c2",
   "metadata": {},
   "outputs": [],
   "source": [
    "###7.\n",
    "\n",
    "x.insert(5,36)"
   ]
  },
  {
   "cell_type": "code",
   "execution_count": 26,
   "id": "02f0d2a9-7050-4d59-920e-927ffe87bf5c",
   "metadata": {},
   "outputs": [
    {
     "data": {
      "text/plain": [
       "['Wrold', 23.45, 12, 67, 45, 36]"
      ]
     },
     "execution_count": 26,
     "metadata": {},
     "output_type": "execute_result"
    }
   ],
   "source": [
    "x"
   ]
  },
  {
   "cell_type": "code",
   "execution_count": 27,
   "id": "a638606c-d2e8-47ef-bd3c-7e4b447f6fe6",
   "metadata": {},
   "outputs": [
    {
     "data": {
      "text/plain": [
       "6"
      ]
     },
     "execution_count": 27,
     "metadata": {},
     "output_type": "execute_result"
    }
   ],
   "source": [
    "###8.\n",
    "\n",
    "len(x)"
   ]
  },
  {
   "cell_type": "code",
   "execution_count": 28,
   "id": "b59cb62d-573d-458f-b54f-5cf8b490993a",
   "metadata": {},
   "outputs": [
    {
     "data": {
      "text/plain": [
       "[12, 67, 45, 36]"
      ]
     },
     "execution_count": 28,
     "metadata": {},
     "output_type": "execute_result"
    }
   ],
   "source": [
    "###9\n",
    "\n",
    "x[2:6]"
   ]
  },
  {
   "cell_type": "code",
   "execution_count": 29,
   "id": "2cd3ce33-f8fb-45f7-9f25-bfe536d8c8d5",
   "metadata": {},
   "outputs": [],
   "source": [
    "###10.\n",
    "\n",
    "x.append([36,'Pune'])"
   ]
  },
  {
   "cell_type": "code",
   "execution_count": 30,
   "id": "fb9d97f3-8359-454d-91db-7dae1524f0ee",
   "metadata": {},
   "outputs": [
    {
     "data": {
      "text/plain": [
       "['Wrold', 23.45, 12, 67, 45, 36, [36, 'Pune']]"
      ]
     },
     "execution_count": 30,
     "metadata": {},
     "output_type": "execute_result"
    }
   ],
   "source": [
    "x"
   ]
  },
  {
   "cell_type": "code",
   "execution_count": 31,
   "id": "719e9bfc-a178-438f-9073-731560435447",
   "metadata": {},
   "outputs": [
    {
     "data": {
      "text/plain": [
       "['Wrold', 23.45, 12, 67, 45, 36, [36, 'Pune']]"
      ]
     },
     "execution_count": 31,
     "metadata": {},
     "output_type": "execute_result"
    }
   ],
   "source": [
    "###11.\n",
    "x"
   ]
  },
  {
   "cell_type": "code",
   "execution_count": 32,
   "id": "ba912d9a-7f7f-4cd9-a617-cb0efc889a00",
   "metadata": {},
   "outputs": [
    {
     "data": {
      "text/plain": [
       "[36, 'Pune']"
      ]
     },
     "execution_count": 32,
     "metadata": {},
     "output_type": "execute_result"
    }
   ],
   "source": [
    "x.pop()"
   ]
  },
  {
   "cell_type": "code",
   "execution_count": 33,
   "id": "08bee0d9-37f1-4190-9104-8a8ca2b44f6c",
   "metadata": {},
   "outputs": [
    {
     "data": {
      "text/plain": [
       "(12.5, 23.45, 45.12, 42.34, 67.9)"
      ]
     },
     "execution_count": 33,
     "metadata": {},
     "output_type": "execute_result"
    }
   ],
   "source": [
    "\n",
    "'''Q.7\n",
    "Create a tuple of elements with 5 float values in it and perform following operations.\n",
    "1. Print the data in sorted manner.\n",
    "2. Check to see that the element 50 is present in it.\n",
    "3. Convert this tuple in set.\n",
    "'''\n",
    "### Create tuple of elements with 5 float values\n",
    "t =(12.50,23.45,45.12,42.34,67.90)\n",
    "t"
   ]
  },
  {
   "cell_type": "code",
   "execution_count": 36,
   "id": "5a6ed62b-02cd-4f9b-a085-f92499f7e32b",
   "metadata": {},
   "outputs": [
    {
     "data": {
      "text/plain": [
       "[12.5, 23.45, 45.12, 42.34, 67.9]"
      ]
     },
     "execution_count": 36,
     "metadata": {},
     "output_type": "execute_result"
    }
   ],
   "source": [
    "###1.\n",
    "\n",
    "t1 = list(t)\n",
    "t1"
   ]
  },
  {
   "cell_type": "code",
   "execution_count": 37,
   "id": "cce9f51f-7e9a-44fd-913a-5affee0e3cb9",
   "metadata": {},
   "outputs": [],
   "source": [
    "t1.sort()"
   ]
  },
  {
   "cell_type": "code",
   "execution_count": 38,
   "id": "d65eecff-1fda-4d68-9f89-af811cdaf05c",
   "metadata": {},
   "outputs": [
    {
     "data": {
      "text/plain": [
       "[12.5, 23.45, 42.34, 45.12, 67.9]"
      ]
     },
     "execution_count": 38,
     "metadata": {},
     "output_type": "execute_result"
    }
   ],
   "source": [
    "t1"
   ]
  },
  {
   "cell_type": "code",
   "execution_count": 39,
   "id": "b1b8e3cb-80e7-4920-b6d1-684378c122d7",
   "metadata": {},
   "outputs": [
    {
     "data": {
      "text/plain": [
       "False"
      ]
     },
     "execution_count": 39,
     "metadata": {},
     "output_type": "execute_result"
    }
   ],
   "source": [
    "###2.\n",
    "50 in t1"
   ]
  },
  {
   "cell_type": "code",
   "execution_count": 40,
   "id": "a18f1485-0ffc-417a-a604-e0d5a0660de4",
   "metadata": {},
   "outputs": [
    {
     "data": {
      "text/plain": [
       "True"
      ]
     },
     "execution_count": 40,
     "metadata": {},
     "output_type": "execute_result"
    }
   ],
   "source": [
    "45.12 in t1"
   ]
  },
  {
   "cell_type": "code",
   "execution_count": 41,
   "id": "e0127a1d-3e7f-47b0-9fbc-ebeaebcc02b7",
   "metadata": {},
   "outputs": [],
   "source": [
    "###3 \n",
    "\n",
    "s =set(t)"
   ]
  },
  {
   "cell_type": "code",
   "execution_count": 43,
   "id": "06c4fc7e-1b90-4fc6-9894-3ded45ffd5ca",
   "metadata": {},
   "outputs": [
    {
     "data": {
      "text/plain": [
       "{12.5, 23.45, 42.34, 45.12, 67.9}"
      ]
     },
     "execution_count": 43,
     "metadata": {},
     "output_type": "execute_result"
    }
   ],
   "source": [
    "s"
   ]
  },
  {
   "cell_type": "code",
   "execution_count": 44,
   "id": "24be567d-6a13-4aab-b538-962e655e0b78",
   "metadata": {},
   "outputs": [],
   "source": [
    "'''Q.8\n",
    "Create a dictionary of elements: {'a':'apple','b','ball','c':'cat','d':'doll','K':'king'} and\n",
    "perform following operations.\n",
    "\n",
    "1. Access the data at key 'k'.\n",
    "2. Add a new values 'z': 'zebra'\n",
    "3. Replace the contents of 'd' as 'dog'\n",
    "4. Print all the values from this dictionary.\n",
    "5. Find the lenght of this dictionary.\n",
    "'''\n",
    "\n",
    "d = {'a':'apple','b':'ball','c':'cat','d':'doll','K':'king'}"
   ]
  },
  {
   "cell_type": "code",
   "execution_count": 45,
   "id": "6caf3768-97b1-48a0-84eb-c1959a807295",
   "metadata": {},
   "outputs": [
    {
     "data": {
      "text/plain": [
       "{'a': 'apple', 'b': 'ball', 'c': 'cat', 'd': 'doll', 'K': 'king'}"
      ]
     },
     "execution_count": 45,
     "metadata": {},
     "output_type": "execute_result"
    }
   ],
   "source": [
    "d"
   ]
  },
  {
   "cell_type": "code",
   "execution_count": 49,
   "id": "34a60bbb-46e6-43e5-9cbb-c1d7318da0e1",
   "metadata": {},
   "outputs": [
    {
     "ename": "KeyError",
     "evalue": "'k'",
     "output_type": "error",
     "traceback": [
      "\u001b[1;31m---------------------------------------------------------------------------\u001b[0m",
      "\u001b[1;31mKeyError\u001b[0m                                  Traceback (most recent call last)",
      "Cell \u001b[1;32mIn[49], line 4\u001b[0m\n\u001b[0;32m      1\u001b[0m \u001b[38;5;66;03m###1.\u001b[39;00m\n\u001b[1;32m----> 4\u001b[0m d[\u001b[38;5;124m'\u001b[39m\u001b[38;5;124mk\u001b[39m\u001b[38;5;124m'\u001b[39m]\n",
      "\u001b[1;31mKeyError\u001b[0m: 'k'"
     ]
    }
   ],
   "source": [
    "###1.\n",
    "\n",
    "\n",
    "d['k']"
   ]
  },
  {
   "cell_type": "code",
   "execution_count": 50,
   "id": "615f52ec-7c3d-4069-9380-45c37153d953",
   "metadata": {},
   "outputs": [],
   "source": [
    "###2.\n",
    "\n",
    "d['z'] = 'zebra'"
   ]
  },
  {
   "cell_type": "code",
   "execution_count": 51,
   "id": "9705a498-51f6-409d-9384-b6724b3e65d7",
   "metadata": {},
   "outputs": [
    {
     "data": {
      "text/plain": [
       "{'a': 'apple', 'b': 'ball', 'c': 'cat', 'd': 'doll', 'K': 'king', 'z': 'zebra'}"
      ]
     },
     "execution_count": 51,
     "metadata": {},
     "output_type": "execute_result"
    }
   ],
   "source": [
    "d"
   ]
  },
  {
   "cell_type": "code",
   "execution_count": 53,
   "id": "a939bff3-65f0-4b0c-b191-e1b2fea892fe",
   "metadata": {},
   "outputs": [],
   "source": [
    "#3.\n",
    "\n",
    "d['d']='dog'"
   ]
  },
  {
   "cell_type": "code",
   "execution_count": 54,
   "id": "ebbbc497-da46-4460-9887-86420d3dbf7d",
   "metadata": {},
   "outputs": [
    {
     "data": {
      "text/plain": [
       "{'a': 'apple', 'b': 'ball', 'c': 'cat', 'd': 'dog', 'K': 'king', 'z': 'zebra'}"
      ]
     },
     "execution_count": 54,
     "metadata": {},
     "output_type": "execute_result"
    }
   ],
   "source": [
    "d"
   ]
  },
  {
   "cell_type": "code",
   "execution_count": 55,
   "id": "7345ba0d-4b1a-4bb5-ae45-c37ea116a36d",
   "metadata": {},
   "outputs": [
    {
     "data": {
      "text/plain": [
       "dict_values(['apple', 'ball', 'cat', 'dog', 'king', 'zebra'])"
      ]
     },
     "execution_count": 55,
     "metadata": {},
     "output_type": "execute_result"
    }
   ],
   "source": [
    "#4.\n",
    "\n",
    "d.values()"
   ]
  },
  {
   "cell_type": "code",
   "execution_count": 56,
   "id": "86e5fa7a-7166-4ff3-a58c-0517868d41ee",
   "metadata": {},
   "outputs": [
    {
     "data": {
      "text/plain": [
       "6"
      ]
     },
     "execution_count": 56,
     "metadata": {},
     "output_type": "execute_result"
    }
   ],
   "source": [
    "#5.\n",
    "\n",
    "len(d)"
   ]
  },
  {
   "cell_type": "code",
   "execution_count": 58,
   "id": "99ff4140-abcc-4213-8bff-e711872d3344",
   "metadata": {},
   "outputs": [],
   "source": [
    "'''\n",
    "Write a program to find the second largest element in a list.\n",
    "'''\n",
    "\n",
    "l = [19,25,8,7,23]\n"
   ]
  },
  {
   "cell_type": "code",
   "execution_count": 59,
   "id": "bee7dc69-8407-405a-a282-41ed613dda8a",
   "metadata": {},
   "outputs": [
    {
     "data": {
      "text/plain": [
       "[19, 25, 8, 7, 23]"
      ]
     },
     "execution_count": 59,
     "metadata": {},
     "output_type": "execute_result"
    }
   ],
   "source": [
    "l"
   ]
  },
  {
   "cell_type": "code",
   "execution_count": 60,
   "id": "135aa810-9458-4651-ac23-301111f6cd06",
   "metadata": {},
   "outputs": [
    {
     "data": {
      "text/plain": [
       "[25, 23, 19, 8, 7]"
      ]
     },
     "execution_count": 60,
     "metadata": {},
     "output_type": "execute_result"
    }
   ],
   "source": [
    "l1=sorted(l,reverse = True)\n",
    "l1"
   ]
  },
  {
   "cell_type": "code",
   "execution_count": 61,
   "id": "e4f2bddd-0f0c-490d-87e4-f0fdf448fef6",
   "metadata": {},
   "outputs": [],
   "source": [
    "\n",
    "'''Q.10\n",
    "This is a list of some metallic elements.\n",
    "metals = ['silver','gold',...]\n",
    "Make a new list that is almost identical to the metals list:\n",
    "The new contains the same items, in the same order, except that it does not contain the item 'copper'.\n",
    "'''\n",
    "metals = ['silver','gold','mercury','iron']"
   ]
  },
  {
   "cell_type": "code",
   "execution_count": 62,
   "id": "27eb049d-f911-4555-a32f-a7e5c0bec3bb",
   "metadata": {},
   "outputs": [
    {
     "data": {
      "text/plain": [
       "['silver', 'gold', 'mercury', 'iron']"
      ]
     },
     "execution_count": 62,
     "metadata": {},
     "output_type": "execute_result"
    }
   ],
   "source": [
    "metals"
   ]
  },
  {
   "cell_type": "code",
   "execution_count": 64,
   "id": "23e4c8fe-3ac6-44eb-b9a2-6d39ddbc16cb",
   "metadata": {},
   "outputs": [
    {
     "name": "stdout",
     "output_type": "stream",
     "text": [
      "['silver', 'gold', 'mercury', 'iron']\n"
     ]
    }
   ],
   "source": [
    "#new list\n",
    "\n",
    "new_List = [metals for metals in metals if metals != 'copper']\n",
    "print(new_List)"
   ]
  },
  {
   "cell_type": "code",
   "execution_count": null,
   "id": "ff7cdf7d-09ba-4f45-b5a4-53808b09a7fa",
   "metadata": {},
   "outputs": [],
   "source": []
  }
 ],
 "metadata": {
  "kernelspec": {
   "display_name": "Python 3 (ipykernel)",
   "language": "python",
   "name": "python3"
  },
  "language_info": {
   "codemirror_mode": {
    "name": "ipython",
    "version": 3
   },
   "file_extension": ".py",
   "mimetype": "text/x-python",
   "name": "python",
   "nbconvert_exporter": "python",
   "pygments_lexer": "ipython3",
   "version": "3.11.7"
  }
 },
 "nbformat": 4,
 "nbformat_minor": 5
}

{
 "cells": [
  {
   "cell_type": "code",
   "execution_count": 1,
   "id": "c6c170f7-6d81-4921-bfd6-b47bfc6e81fb",
   "metadata": {},
   "outputs": [],
   "source": [
    "## 1.Create a package named ‘cricket’ which will contain modules named batsman and bowler. Create following functions in respective modules.\n",
    "#Import the package and call all these functions in your program\n",
    "#batsman: findaverage(runs,matches), strikerate(runs,balls)\n",
    "#bowler: findavg(runs,wickets), economyrate(overs, runs)\n",
    "\n",
    "from Cricket import batsman, baller\n",
    "\n",
    "def main():\n",
    "    # Batsman stats\n",
    "    runs_batsman = int(input(\"Enter the runs:\"))\n",
    "    matches_batsman = int(input(\"Enter the matches:\"))\n",
    "    balls_faced = int(input(\"Enter the Total balls:\"))\n",
    "    \n",
    "    # Bowler stats\n",
    "    runs_baller = int(input(\"Enter the runs baller:\"))\n",
    "    wickets_taken = int(input(\"Enter the wicket:\"))\n",
    "    overs_balled = int(input(\"Enter the overs:\"))\n",
    "\n",
    "    # Batsman calculations\n",
    "    avg_batsman = batsman.findaverage(runs_batsman, matches_batsman)\n",
    "    sr_batsman = batsman.strikerate(runs_batsman, balls_faced)\n",
    "\n",
    "    # Bowler calculations\n",
    "    avg_baller = baller.findavg(runs_baller, wickets_taken)\n",
    "    economy_baller = baller.economyrate(overs_balled, runs_baller)\n",
    "\n",
    "    # Print results\n",
    "    print(f\"Batsman's average:\",avg_batsman)\n",
    "    print(f\"Batsman's strike rate:\",sr_batsman)\n",
    "    print(f\"Bowler's average:\",avg_baller)\n",
    "    print(f\"Bowler's economy rate:\",economy_baller)"
   ]
  },
  {
   "cell_type": "code",
   "execution_count": 2,
   "id": "018ae08b-4019-46b9-9a4c-a2be96cca8a1",
   "metadata": {},
   "outputs": [
    {
     "name": "stdin",
     "output_type": "stream",
     "text": [
      "Enter the runs: 6\n",
      "Enter the matches: 8\n",
      "Enter the Total balls: 12\n",
      "Enter the runs baller: 5\n",
      "Enter the wicket: 9\n",
      "Enter the overs: 6\n"
     ]
    },
    {
     "name": "stdout",
     "output_type": "stream",
     "text": [
      "Batsman's average: 0.75\n",
      "Batsman's strike rate: 50.0\n",
      "Bowler's average: 0.5555555555555556\n",
      "Bowler's economy rate: 0.8333333333333334\n"
     ]
    }
   ],
   "source": [
    "main()"
   ]
  },
  {
   "cell_type": "code",
   "execution_count": 3,
   "id": "2d55d8eb-b3f3-46c1-bcfc-63b1b037c7dc",
   "metadata": {},
   "outputs": [],
   "source": [
    " # 2.Write a Python function to find whether the number if prime or not.\n",
    "#def isPrime(num)\n",
    "\n",
    "def Prime(num):\n",
    "    # If num is less than or equal to 1, it's not prime\n",
    "    if num <= 1:\n",
    "        return 'not prime'\n",
    "    \n",
    "    # Check for factors from 2 to sqrt(num)\n",
    "    for i in range(2, int(num**0.5) + 1):\n",
    "        if num % i == 0:\n",
    "            return 'not prime'\n",
    "    \n",
    "    return ' prime'"
   ]
  },
  {
   "cell_type": "code",
   "execution_count": 4,
   "id": "61658031-8712-48a2-9989-eb43c9c8f96c",
   "metadata": {},
   "outputs": [
    {
     "data": {
      "text/plain": [
       "' prime'"
      ]
     },
     "execution_count": 4,
     "metadata": {},
     "output_type": "execute_result"
    }
   ],
   "source": [
    "Prime(5)"
   ]
  },
  {
   "cell_type": "code",
   "execution_count": 5,
   "id": "af642659-1aee-4f61-a595-b666644a6ce1",
   "metadata": {},
   "outputs": [],
   "source": [
    "## 3.Write a function is_palindrome(string) that takes a string as input and returns True if the string reads the same backward as forward \n",
    "#(e.g., \"racecar\" is a palindrome).\n",
    "\n",
    "def is_palinrome(string):\n",
    "    if(string == string[::-1]):\n",
    "        return 'The string is a palindrome'\n",
    "    else:\n",
    "        return 'This is not  palindrome'"
   ]
  },
  {
   "cell_type": "code",
   "execution_count": 7,
   "id": "be7846e9-18f1-41fa-b0a7-2638ca60514e",
   "metadata": {},
   "outputs": [
    {
     "data": {
      "text/plain": [
       "'The string is a palindrome'"
      ]
     },
     "execution_count": 7,
     "metadata": {},
     "output_type": "execute_result"
    }
   ],
   "source": [
    "is_palinrome('level')"
   ]
  },
  {
   "cell_type": "code",
   "execution_count": 8,
   "id": "8886663c-7020-46e5-aee0-424591c3bbea",
   "metadata": {},
   "outputs": [],
   "source": [
    "# 4.Write a function reverse_list(data) that takes a list as input and returns a new list with the elements in reverse order \n",
    "#(e.g., reverse_list([1, 2, 3]) returns [3, 2, 1]).\n",
    "\n",
    "def reverse_list(data):\n",
    "    return data[::-1]\n",
    "    reverse_list(original_list)\n",
    "    print('original list', original_list)\n",
    "    print(' reverse list', reverse_list)"
   ]
  },
  {
   "cell_type": "code",
   "execution_count": 9,
   "id": "132b794d-4ad5-46d0-944b-b2733f968724",
   "metadata": {},
   "outputs": [
    {
     "data": {
      "text/plain": [
       "[9, 8, 7, 6]"
      ]
     },
     "execution_count": 9,
     "metadata": {},
     "output_type": "execute_result"
    }
   ],
   "source": [
    "reverse_list([6,7,8,9])"
   ]
  },
  {
   "cell_type": "code",
   "execution_count": 12,
   "id": "1a323cd0-6d3c-4fe7-a2eb-547a2001d95a",
   "metadata": {},
   "outputs": [],
   "source": [
    "# 5. Write a function write_file(filename, content) that takes a filename and content as input and writes the content to the specified file.\n",
    "\n",
    "def write_file(filename, content):\n",
    "    with open(filename, 'w') as file:\n",
    "        file.write(content)"
   ]
  },
  {
   "cell_type": "code",
   "execution_count": 13,
   "id": "1a46dd2c-8877-48d2-b976-2760b9709696",
   "metadata": {},
   "outputs": [],
   "source": [
    "write_file('Test.text','this is the content of file')"
   ]
  },
  {
   "cell_type": "code",
   "execution_count": 5,
   "id": "778cda1c-75c7-4631-9e8b-774adfd2b5ab",
   "metadata": {},
   "outputs": [],
   "source": [
    "#6. Write a function copy_file(source_filename, destination_filename) that takes the source and destination filenames as input and copies the\n",
    "#content of the source file to the destination file. Handle cases where the source file doesn't exist.\n",
    "\n",
    "def copy_file(source_filename, destination_filename):\n",
    "    \n",
    "   try:\n",
    "       with open(source_filename, 'r') as source_file:\n",
    "           content = source_file.read()\n",
    "           with open(destination_filename, 'w') as destination_file:\n",
    "               destination_file.write(content)\n",
    "               print('file content copied from source_filename to destination_filename ')\n",
    "   except FileNotFoundError:\n",
    "       print('The  source file does not exist')\n",
    "   except Exception as e:\n",
    "       print('An error occurre',e)"
   ]
  },
  {
   "cell_type": "code",
   "execution_count": 6,
   "id": "9d876a73-019d-478c-a257-ce9abecb6e9d",
   "metadata": {},
   "outputs": [
    {
     "name": "stdout",
     "output_type": "stream",
     "text": [
      "file content copied from source_filename to destination_filename \n"
     ]
    }
   ],
   "source": [
    "copy_file('test.txt','destination.txt')"
   ]
  },
  {
   "cell_type": "code",
   "execution_count": 17,
   "id": "7559e7c8-4b4c-4953-9a64-61e5c6463442",
   "metadata": {},
   "outputs": [],
   "source": [
    "#7.Implement a function to calculate the dot product of two NumPy arrays.\n",
    "\n",
    "import numpy as np"
   ]
  },
  {
   "cell_type": "code",
   "execution_count": 18,
   "id": "905e1fe9-3886-4e50-950d-acd6acfbd809",
   "metadata": {},
   "outputs": [],
   "source": [
    "def calculate_dot_product(array1, array2):\n",
    "    return np.dot(array1, array2)\n",
    "    result = calculate_dot_product(array1, array2)\n",
    "    "
   ]
  },
  {
   "cell_type": "code",
   "execution_count": 20,
   "id": "94ce2323-0dc7-4438-9d52-0757a842fa63",
   "metadata": {},
   "outputs": [
    {
     "data": {
      "text/plain": [
       "70"
      ]
     },
     "execution_count": 20,
     "metadata": {},
     "output_type": "execute_result"
    }
   ],
   "source": [
    "calculate_dot_product(([3+2]),([5+9]))"
   ]
  },
  {
   "cell_type": "code",
   "execution_count": 21,
   "id": "13555dfc-a5d9-4c5c-90bc-2c8660db4669",
   "metadata": {},
   "outputs": [],
   "source": [
    "#8. Implement a GUI with a radio button selection for choosing a favorite color (e.g., red,green, blue). \n",
    "#Change the background color of the window based on the selected radio button.\n",
    "\n",
    "import tkinter as tk"
   ]
  },
  {
   "cell_type": "code",
   "execution_count": null,
   "id": "a9eaec0b-0fda-47c1-84e9-6f6268f8cd33",
   "metadata": {},
   "outputs": [],
   "source": [
    "def change_color():\n",
    "\n",
    "    choose_color = color_var.get()\n",
    "    \n",
    "    if choose_color == \"Blue\":\n",
    "        window.configure(bg=\"blue\")\n",
    "    elif choose_color == \"Yellow\":\n",
    "        window.configure(bg=\"Yellow\")\n",
    "    elif choose_color == \"green\":\n",
    "        window.configure(bg=\"green\")\n",
    "\n",
    "window = tk.Tk()\n",
    "window.title(\"Radio button\")\n",
    "\n",
    "color_var = tk.StringVar()\n",
    "\n",
    "\n",
    "red_radio = tk.Radiobutton(window, text=\"pink\", variable=color_var, value=\"pink\", command=change_color)\n",
    "red_radio.pack(anchor=tk.CENTER)\n",
    "\n",
    "green_radio = tk.Radiobutton(window, text=\"Yellow\", variable=color_var, value=\"Yellow\", command=change_color)\n",
    "green_radio.pack(anchor=tk.CENTER)\n",
    "\n",
    "blue_radio = tk.Radiobutton(window, text=\"Blue\", variable=color_var, value=\"Blue\", command=change_color)\n",
    "blue_radio.pack(anchor=tk.CENTER)\n",
    "                \n",
    "window.mainloop()"
   ]
  },
  {
   "cell_type": "code",
   "execution_count": null,
   "id": "0fd1143f-525e-4a33-9b6b-a5b61a3407a8",
   "metadata": {},
   "outputs": [],
   "source": [
    "# Q9. design a currency converter GUI. Allow users to enter an amount and select the \n",
    "# currencies they want to convert between(eg.. USD, EUR). Display the converted\n",
    "# amount in the selected currency.\n",
    "\n",
    "import tkinter as tk\n",
    "from tkinter import ttk\n",
    "\n",
    "# Predefined conversion rates (for demonstration purposes)\n",
    "conversion_rates = {\n",
    "    'Rupees': {'Rupees': 1.0, 'doller': 85.56, 'EUR': 0.75},\n",
    "    'EUR': {'Rupees': 1.18, 'EUR': 1.0, 'dolller': 0.88},\n",
    "    'Doller': {'Ruppes': 1.33, 'EUR': 1.14, 'doller': 1.0},\n",
    "}\n",
    "\n",
    "# Initialize tkinter\n",
    "root = tk.Tk()\n",
    "root.title(\"Currency Converter\")\n",
    "\n",
    "# Function to perform conversion\n",
    "def convert_currency():\n",
    "    try:\n",
    "        amount = float(amount_entry.get())\n",
    "        from_currency = from_currency_var.get()\n",
    "        to_currency = to_currency_var.get()\n",
    "\n",
    "        if from_currency == to_currency:\n",
    "            converted_amount = amount\n",
    "        else:\n",
    "            conversion_rate = conversion_rates[from_currency][to_currency]\n",
    "            converted_amount = amount * conversion_rate\n",
    "\n",
    "        result_label.config(text=f\"Converted Amount: {converted_amount:.2f} {to_currency}\")\n",
    "    except ValueError:\n",
    "        result_label.config(text=\"Please enter a valid number\")\n",
    "\n",
    "# Create labels\n",
    "amount_label = ttk.Label(root, text=\"Enter Amount:\")\n",
    "amount_label.grid(row=0, column=0) #padx=10, pady=10, sticky=tk.W)\n",
    "\n",
    "result_label = ttk.Label(root, text=\"\")\n",
    "result_label.grid(row=2, column=0)# padx=10, pady=10, sticky=tk.W)\n",
    "\n",
    "# Create entry for amount\n",
    "amount_entry = ttk.Entry(root, width=20)\n",
    "amount_entry.grid(row=0, column=1)# padx=10, pady=10)\n",
    "\n",
    "# Create dropdowns for selecting currencies\n",
    "currencies = ['Rupees', 'EUR', 'Doller']  # Add more currencies as needed\n",
    "from_currency_var = tk.StringVar()\n",
    "to_currency_var = tk.StringVar()\n",
    "\n",
    "from_currency_label = ttk.Label(root, text=\"From Currency:\")\n",
    "from_currency_label.grid(row=1, column=0)# padx=10, pady=10, sticky=tk.W)\n",
    "\n",
    "from_currency_dropdown = ttk.Combobox(root, textvariable=from_currency_var, values=currencies)\n",
    "from_currency_dropdown.grid(row=1, column=1)# padx=10, pady=10)\n",
    "from_currency_dropdown.current(0)  # Set default value\n",
    "\n",
    "to_currency_label = ttk.Label(root, text=\"To Currency:\")\n",
    "to_currency_label.grid(row=1, column=2)# padx=10, pady=10, sticky=tk.W)\n",
    "\n",
    "to_currency_dropdown = ttk.Combobox(root, textvariable=to_currency_var, values=currencies)\n",
    "to_currency_dropdown.grid(row=1, column=3)# padx=10, pady=10)\n",
    "to_currency_dropdown.current(1)  # Set default value\n",
    "\n",
    "# Create convert button\n",
    "convert_button = ttk.Button(root, text=\"Convert\", command=convert_currency)\n",
    "convert_button.grid(row=2, column=1)#columnspan=2)# padx=10, pady=10)\n",
    "\n",
    "# Start the GUI main loop\n",
    "root.mainloop()"
   ]
  },
  {
   "cell_type": "code",
   "execution_count": null,
   "id": "e399d799-c2e7-417f-ab91-b47c258f75ff",
   "metadata": {},
   "outputs": [],
   "source": []
  }
 ],
 "metadata": {
  "kernelspec": {
   "display_name": "Python 3 (ipykernel)",
   "language": "python",
   "name": "python3"
  },
  "language_info": {
   "codemirror_mode": {
    "name": "ipython",
    "version": 3
   },
   "file_extension": ".py",
   "mimetype": "text/x-python",
   "name": "python",
   "nbconvert_exporter": "python",
   "pygments_lexer": "ipython3",
   "version": "3.11.7"
  }
 },
 "nbformat": 4,
 "nbformat_minor": 5
}
